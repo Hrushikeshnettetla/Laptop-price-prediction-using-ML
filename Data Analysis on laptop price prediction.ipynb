{
 "cells": [
  {
   "cell_type": "markdown",
   "id": "1bc0cc8e",
   "metadata": {},
   "source": [
    "# Problem Statement\n",
    "\n",
    "### Elon Musk has started his own laptop company (Tesla Laptop) in India. He wants to give tough fights to big companies like Apple, Alienware, HP etc.\n",
    "\n",
    "### He does not know how to estimate the price of laptops his company creates. In this competitive laptop market you cannot simply assume things. \n",
    "\n",
    "### Musk wants to find out some relation between features of a Laptop(eg:- RAM, OS,  etc) and its selling price. But he is not so good at Data Mining. 😥\n",
    "\n",
    "### To solve this problem he already asked his Data Engineering team (from Twitter 🐥🤭) to collect laptop data from various competitors.\n",
    "\n",
    "### Now he needs your (i.e Data Scientist’s) help to solve the following problem. 🥰\n",
    "\n",
    "\n",
    "\n",
    "\n",
    "\n",
    "\n",
    "\n",
    "\n",
    "# Sprint - 1 (Data Analysis and Mining)\n",
    "\n",
    "\n",
    "## Musk’s Requirements\n",
    "\n",
    "#### 1)Build an interface (using streamlit) for Elon Musk where he can enter the laptop features like RAM Size, RAM Type, HDD, OS, etc. and get the price prediction.\n",
    "\n",
    "#### 2)Based on your Data Analysis and MIning skills, give recommendations to Elon Musk on how the pricing works in the laptop market.\n",
    "\n",
    "\n",
    "\n",
    "\n",
    "\n",
    "# Sprint - 2 (ML Model Tuning)\n",
    "\n",
    "#### Now he wants you to test the models you have created for Underfitting and Overfitting. He wants you to build a best fit model.\n",
    "\n",
    "#### Todo - \n",
    "#### First try to check if the models you have created are a best fit or not.\n",
    "#### See if applying cross validation helps improve your models performance."
   ]
  },
  {
   "cell_type": "code",
   "execution_count": 1,
   "id": "90545615",
   "metadata": {},
   "outputs": [],
   "source": [
    "import pandas as pd\n",
    "import numpy as np"
   ]
  },
  {
   "cell_type": "code",
   "execution_count": 2,
   "id": "85afe6a7",
   "metadata": {},
   "outputs": [
    {
     "data": {
      "text/html": [
       "<div>\n",
       "<style scoped>\n",
       "    .dataframe tbody tr th:only-of-type {\n",
       "        vertical-align: middle;\n",
       "    }\n",
       "\n",
       "    .dataframe tbody tr th {\n",
       "        vertical-align: top;\n",
       "    }\n",
       "\n",
       "    .dataframe thead th {\n",
       "        text-align: right;\n",
       "    }\n",
       "</style>\n",
       "<table border=\"1\" class=\"dataframe\">\n",
       "  <thead>\n",
       "    <tr style=\"text-align: right;\">\n",
       "      <th></th>\n",
       "      <th>Product</th>\n",
       "      <th>Rating</th>\n",
       "      <th>MRP</th>\n",
       "      <th>Feature</th>\n",
       "    </tr>\n",
       "  </thead>\n",
       "  <tbody>\n",
       "    <tr>\n",
       "      <th>0</th>\n",
       "      <td>Lenovo IdeaPad 3 Core i3 11th Gen - (8 GB/256 ...</td>\n",
       "      <td>4.2</td>\n",
       "      <td>₹36,990</td>\n",
       "      <td>Intel Core i3 Processor (11th Gen)8 GB DDR4 RA...</td>\n",
       "    </tr>\n",
       "    <tr>\n",
       "      <th>1</th>\n",
       "      <td>Lenovo IdeaPad 3 Core i3 11th Gen - (8 GB/512 ...</td>\n",
       "      <td>4.2</td>\n",
       "      <td>₹39,990</td>\n",
       "      <td>Intel Core i3 Processor (11th Gen)8 GB DDR4 RA...</td>\n",
       "    </tr>\n",
       "    <tr>\n",
       "      <th>2</th>\n",
       "      <td>ASUS VivoBook 15 (2022) Core i3 10th Gen - (8 ...</td>\n",
       "      <td>4.3</td>\n",
       "      <td>₹32,990</td>\n",
       "      <td>Intel Core i3 Processor (10th Gen)8 GB DDR4 RA...</td>\n",
       "    </tr>\n",
       "    <tr>\n",
       "      <th>3</th>\n",
       "      <td>HP Pavilion Ryzen 5 Hexa Core AMD R5-5600H - (...</td>\n",
       "      <td>4.4</td>\n",
       "      <td>₹49,990</td>\n",
       "      <td>AMD Ryzen 5 Hexa Core Processor8 GB DDR4 RAM64...</td>\n",
       "    </tr>\n",
       "    <tr>\n",
       "      <th>4</th>\n",
       "      <td>ASUS TUF Gaming F15 Core i5 10th Gen - (8 GB/5...</td>\n",
       "      <td>4.4</td>\n",
       "      <td>₹49,990</td>\n",
       "      <td>Intel Core i5 Processor (10th Gen)8 GB DDR4 RA...</td>\n",
       "    </tr>\n",
       "  </tbody>\n",
       "</table>\n",
       "</div>"
      ],
      "text/plain": [
       "                                             Product  Rating      MRP  \\\n",
       "0  Lenovo IdeaPad 3 Core i3 11th Gen - (8 GB/256 ...     4.2  ₹36,990   \n",
       "1  Lenovo IdeaPad 3 Core i3 11th Gen - (8 GB/512 ...     4.2  ₹39,990   \n",
       "2  ASUS VivoBook 15 (2022) Core i3 10th Gen - (8 ...     4.3  ₹32,990   \n",
       "3  HP Pavilion Ryzen 5 Hexa Core AMD R5-5600H - (...     4.4  ₹49,990   \n",
       "4  ASUS TUF Gaming F15 Core i5 10th Gen - (8 GB/5...     4.4  ₹49,990   \n",
       "\n",
       "                                             Feature  \n",
       "0  Intel Core i3 Processor (11th Gen)8 GB DDR4 RA...  \n",
       "1  Intel Core i3 Processor (11th Gen)8 GB DDR4 RA...  \n",
       "2  Intel Core i3 Processor (10th Gen)8 GB DDR4 RA...  \n",
       "3  AMD Ryzen 5 Hexa Core Processor8 GB DDR4 RAM64...  \n",
       "4  Intel Core i5 Processor (10th Gen)8 GB DDR4 RA...  "
      ]
     },
     "execution_count": 2,
     "metadata": {},
     "output_type": "execute_result"
    }
   ],
   "source": [
    "df=pd.read_csv('C:/Users/hrush/Downloads/laptop_details.csv')\n",
    "df.head()"
   ]
  },
  {
   "cell_type": "code",
   "execution_count": 3,
   "id": "64639b40",
   "metadata": {},
   "outputs": [
    {
     "data": {
      "text/plain": [
       "(720, 4)"
      ]
     },
     "execution_count": 3,
     "metadata": {},
     "output_type": "execute_result"
    }
   ],
   "source": [
    "df.shape"
   ]
  },
  {
   "cell_type": "code",
   "execution_count": 4,
   "id": "8da148da",
   "metadata": {},
   "outputs": [
    {
     "name": "stdout",
     "output_type": "stream",
     "text": [
      "<class 'pandas.core.frame.DataFrame'>\n",
      "RangeIndex: 720 entries, 0 to 719\n",
      "Data columns (total 4 columns):\n",
      " #   Column   Non-Null Count  Dtype  \n",
      "---  ------   --------------  -----  \n",
      " 0   Product  720 non-null    object \n",
      " 1   Rating   581 non-null    float64\n",
      " 2   MRP      720 non-null    object \n",
      " 3   Feature  720 non-null    object \n",
      "dtypes: float64(1), object(3)\n",
      "memory usage: 22.6+ KB\n"
     ]
    }
   ],
   "source": [
    "df.info()"
   ]
  },
  {
   "cell_type": "code",
   "execution_count": 5,
   "id": "bd22dd87",
   "metadata": {},
   "outputs": [
    {
     "data": {
      "text/plain": [
       "Product      0\n",
       "Rating     139\n",
       "MRP          0\n",
       "Feature      0\n",
       "dtype: int64"
      ]
     },
     "execution_count": 5,
     "metadata": {},
     "output_type": "execute_result"
    }
   ],
   "source": [
    "df.isnull().sum()"
   ]
  },
  {
   "cell_type": "code",
   "execution_count": 6,
   "id": "759d0557",
   "metadata": {},
   "outputs": [],
   "source": [
    "df['MRP'] = df['MRP'].apply(lambda x : x.replace('₹', '').replace(',', '')).astype(int)"
   ]
  },
  {
   "cell_type": "code",
   "execution_count": 7,
   "id": "87891275",
   "metadata": {},
   "outputs": [
    {
     "data": {
      "text/html": [
       "<div>\n",
       "<style scoped>\n",
       "    .dataframe tbody tr th:only-of-type {\n",
       "        vertical-align: middle;\n",
       "    }\n",
       "\n",
       "    .dataframe tbody tr th {\n",
       "        vertical-align: top;\n",
       "    }\n",
       "\n",
       "    .dataframe thead th {\n",
       "        text-align: right;\n",
       "    }\n",
       "</style>\n",
       "<table border=\"1\" class=\"dataframe\">\n",
       "  <thead>\n",
       "    <tr style=\"text-align: right;\">\n",
       "      <th></th>\n",
       "      <th>Product</th>\n",
       "      <th>Rating</th>\n",
       "      <th>MRP</th>\n",
       "      <th>Feature</th>\n",
       "    </tr>\n",
       "  </thead>\n",
       "  <tbody>\n",
       "    <tr>\n",
       "      <th>0</th>\n",
       "      <td>Lenovo IdeaPad 3 Core i3 11th Gen - (8 GB/256 ...</td>\n",
       "      <td>4.2</td>\n",
       "      <td>36990</td>\n",
       "      <td>Intel Core i3 Processor (11th Gen)8 GB DDR4 RA...</td>\n",
       "    </tr>\n",
       "    <tr>\n",
       "      <th>1</th>\n",
       "      <td>Lenovo IdeaPad 3 Core i3 11th Gen - (8 GB/512 ...</td>\n",
       "      <td>4.2</td>\n",
       "      <td>39990</td>\n",
       "      <td>Intel Core i3 Processor (11th Gen)8 GB DDR4 RA...</td>\n",
       "    </tr>\n",
       "    <tr>\n",
       "      <th>2</th>\n",
       "      <td>ASUS VivoBook 15 (2022) Core i3 10th Gen - (8 ...</td>\n",
       "      <td>4.3</td>\n",
       "      <td>32990</td>\n",
       "      <td>Intel Core i3 Processor (10th Gen)8 GB DDR4 RA...</td>\n",
       "    </tr>\n",
       "    <tr>\n",
       "      <th>3</th>\n",
       "      <td>HP Pavilion Ryzen 5 Hexa Core AMD R5-5600H - (...</td>\n",
       "      <td>4.4</td>\n",
       "      <td>49990</td>\n",
       "      <td>AMD Ryzen 5 Hexa Core Processor8 GB DDR4 RAM64...</td>\n",
       "    </tr>\n",
       "    <tr>\n",
       "      <th>4</th>\n",
       "      <td>ASUS TUF Gaming F15 Core i5 10th Gen - (8 GB/5...</td>\n",
       "      <td>4.4</td>\n",
       "      <td>49990</td>\n",
       "      <td>Intel Core i5 Processor (10th Gen)8 GB DDR4 RA...</td>\n",
       "    </tr>\n",
       "  </tbody>\n",
       "</table>\n",
       "</div>"
      ],
      "text/plain": [
       "                                             Product  Rating    MRP  \\\n",
       "0  Lenovo IdeaPad 3 Core i3 11th Gen - (8 GB/256 ...     4.2  36990   \n",
       "1  Lenovo IdeaPad 3 Core i3 11th Gen - (8 GB/512 ...     4.2  39990   \n",
       "2  ASUS VivoBook 15 (2022) Core i3 10th Gen - (8 ...     4.3  32990   \n",
       "3  HP Pavilion Ryzen 5 Hexa Core AMD R5-5600H - (...     4.4  49990   \n",
       "4  ASUS TUF Gaming F15 Core i5 10th Gen - (8 GB/5...     4.4  49990   \n",
       "\n",
       "                                             Feature  \n",
       "0  Intel Core i3 Processor (11th Gen)8 GB DDR4 RA...  \n",
       "1  Intel Core i3 Processor (11th Gen)8 GB DDR4 RA...  \n",
       "2  Intel Core i3 Processor (10th Gen)8 GB DDR4 RA...  \n",
       "3  AMD Ryzen 5 Hexa Core Processor8 GB DDR4 RAM64...  \n",
       "4  Intel Core i5 Processor (10th Gen)8 GB DDR4 RA...  "
      ]
     },
     "execution_count": 7,
     "metadata": {},
     "output_type": "execute_result"
    }
   ],
   "source": [
    "df.head()"
   ]
  },
  {
   "cell_type": "code",
   "execution_count": 8,
   "id": "1292ebf4",
   "metadata": {},
   "outputs": [],
   "source": [
    "import re"
   ]
  },
  {
   "cell_type": "code",
   "execution_count": 9,
   "id": "f875cc32",
   "metadata": {},
   "outputs": [],
   "source": [
    "regex = r'^\\w+'\n",
    "df['Brand']=df['Product'].apply(lambda x : re.findall(regex, x))\n",
    "df['Brand']= df['Brand'].apply(lambda x : ''.join(x))\n"
   ]
  },
  {
   "cell_type": "code",
   "execution_count": 10,
   "id": "9ce17d86",
   "metadata": {},
   "outputs": [],
   "source": [
    "regex= r'^(?:AMD|Intel|M1|Apple)[\\s\\w]+Processor'\n",
    "df['Processor Type']=df['Feature'].apply(lambda x : re.findall(regex, x))\n",
    "df['Processor Type']=df['Processor Type'].apply(lambda x : ''.join(x))\n",
    "df['Processor Type']=df['Processor Type'].apply(lambda x: x.replace(\" Processor\", \"\"))"
   ]
  },
  {
   "cell_type": "code",
   "execution_count": 11,
   "id": "0e279c43",
   "metadata": {},
   "outputs": [],
   "source": [
    "regex= r'[\\d]+[\\s]bit[\\s\\w]+Operating System|[\\(Windows)\\d\\s]+Operating System|[\\(Chrome|Mac OS)]+Operating System'\n",
    "df['Operating System']=df['Feature'].apply(lambda x : re.findall(regex, x))\n",
    "df['Operating System']=df['Operating System'].apply(lambda x : ''.join(x))\n",
    "df['Operating System']=df['Operating System'].apply(lambda x: x.replace(\" Operating System\", \"\"))"
   ]
  },
  {
   "cell_type": "code",
   "execution_count": 12,
   "id": "06357a1d",
   "metadata": {},
   "outputs": [],
   "source": [
    "regex = r'\\d+\\sGB[\\s\\w]+RAM'\n",
    "df['RAM'] = df['Feature'].apply(lambda x : re.findall(regex, x))\n",
    "df.RAM = df.RAM.apply(lambda x : ''.join(x))"
   ]
  },
  {
   "cell_type": "code",
   "execution_count": 13,
   "id": "43fa40b5",
   "metadata": {},
   "outputs": [],
   "source": [
    "regex = r'[\\d]+\\s(?:GB|TB)\\s(?:HDD|SSD)'\n",
    "df['Storage']=df['Feature'].apply(lambda x : re.findall(regex, x))\n",
    "df['Storage']=df['Storage'].apply(lambda x : ''.join(x))"
   ]
  },
  {
   "cell_type": "code",
   "execution_count": 14,
   "id": "f407c307",
   "metadata": {},
   "outputs": [
    {
     "data": {
      "text/html": [
       "<div>\n",
       "<style scoped>\n",
       "    .dataframe tbody tr th:only-of-type {\n",
       "        vertical-align: middle;\n",
       "    }\n",
       "\n",
       "    .dataframe tbody tr th {\n",
       "        vertical-align: top;\n",
       "    }\n",
       "\n",
       "    .dataframe thead th {\n",
       "        text-align: right;\n",
       "    }\n",
       "</style>\n",
       "<table border=\"1\" class=\"dataframe\">\n",
       "  <thead>\n",
       "    <tr style=\"text-align: right;\">\n",
       "      <th></th>\n",
       "      <th>Product</th>\n",
       "      <th>Rating</th>\n",
       "      <th>MRP</th>\n",
       "      <th>Feature</th>\n",
       "      <th>Brand</th>\n",
       "      <th>Processor Type</th>\n",
       "      <th>Operating System</th>\n",
       "      <th>RAM</th>\n",
       "      <th>Storage</th>\n",
       "    </tr>\n",
       "  </thead>\n",
       "  <tbody>\n",
       "    <tr>\n",
       "      <th>0</th>\n",
       "      <td>Lenovo IdeaPad 3 Core i3 11th Gen - (8 GB/256 ...</td>\n",
       "      <td>4.2</td>\n",
       "      <td>36990</td>\n",
       "      <td>Intel Core i3 Processor (11th Gen)8 GB DDR4 RA...</td>\n",
       "      <td>Lenovo</td>\n",
       "      <td>Intel Core i3</td>\n",
       "      <td>64 bit Windows 11</td>\n",
       "      <td>8 GB DDR4 RAM</td>\n",
       "      <td>256 GB SSD</td>\n",
       "    </tr>\n",
       "    <tr>\n",
       "      <th>1</th>\n",
       "      <td>Lenovo IdeaPad 3 Core i3 11th Gen - (8 GB/512 ...</td>\n",
       "      <td>4.2</td>\n",
       "      <td>39990</td>\n",
       "      <td>Intel Core i3 Processor (11th Gen)8 GB DDR4 RA...</td>\n",
       "      <td>Lenovo</td>\n",
       "      <td>Intel Core i3</td>\n",
       "      <td>64 bit Windows 11</td>\n",
       "      <td>8 GB DDR4 RAM</td>\n",
       "      <td>512 GB SSD</td>\n",
       "    </tr>\n",
       "    <tr>\n",
       "      <th>2</th>\n",
       "      <td>ASUS VivoBook 15 (2022) Core i3 10th Gen - (8 ...</td>\n",
       "      <td>4.3</td>\n",
       "      <td>32990</td>\n",
       "      <td>Intel Core i3 Processor (10th Gen)8 GB DDR4 RA...</td>\n",
       "      <td>ASUS</td>\n",
       "      <td>Intel Core i3</td>\n",
       "      <td>64 bit Windows 11</td>\n",
       "      <td>8 GB DDR4 RAM</td>\n",
       "      <td>512 GB SSD</td>\n",
       "    </tr>\n",
       "    <tr>\n",
       "      <th>3</th>\n",
       "      <td>HP Pavilion Ryzen 5 Hexa Core AMD R5-5600H - (...</td>\n",
       "      <td>4.4</td>\n",
       "      <td>49990</td>\n",
       "      <td>AMD Ryzen 5 Hexa Core Processor8 GB DDR4 RAM64...</td>\n",
       "      <td>HP</td>\n",
       "      <td>AMD Ryzen 5 Hexa Core</td>\n",
       "      <td>64 bit Windows 10</td>\n",
       "      <td>8 GB DDR4 RAM</td>\n",
       "      <td>512 GB SSD</td>\n",
       "    </tr>\n",
       "    <tr>\n",
       "      <th>4</th>\n",
       "      <td>ASUS TUF Gaming F15 Core i5 10th Gen - (8 GB/5...</td>\n",
       "      <td>4.4</td>\n",
       "      <td>49990</td>\n",
       "      <td>Intel Core i5 Processor (10th Gen)8 GB DDR4 RA...</td>\n",
       "      <td>ASUS</td>\n",
       "      <td>Intel Core i5</td>\n",
       "      <td>Windows 11</td>\n",
       "      <td>8 GB DDR4 RAM</td>\n",
       "      <td>512 GB SSD</td>\n",
       "    </tr>\n",
       "  </tbody>\n",
       "</table>\n",
       "</div>"
      ],
      "text/plain": [
       "                                             Product  Rating    MRP  \\\n",
       "0  Lenovo IdeaPad 3 Core i3 11th Gen - (8 GB/256 ...     4.2  36990   \n",
       "1  Lenovo IdeaPad 3 Core i3 11th Gen - (8 GB/512 ...     4.2  39990   \n",
       "2  ASUS VivoBook 15 (2022) Core i3 10th Gen - (8 ...     4.3  32990   \n",
       "3  HP Pavilion Ryzen 5 Hexa Core AMD R5-5600H - (...     4.4  49990   \n",
       "4  ASUS TUF Gaming F15 Core i5 10th Gen - (8 GB/5...     4.4  49990   \n",
       "\n",
       "                                             Feature   Brand  \\\n",
       "0  Intel Core i3 Processor (11th Gen)8 GB DDR4 RA...  Lenovo   \n",
       "1  Intel Core i3 Processor (11th Gen)8 GB DDR4 RA...  Lenovo   \n",
       "2  Intel Core i3 Processor (10th Gen)8 GB DDR4 RA...    ASUS   \n",
       "3  AMD Ryzen 5 Hexa Core Processor8 GB DDR4 RAM64...      HP   \n",
       "4  Intel Core i5 Processor (10th Gen)8 GB DDR4 RA...    ASUS   \n",
       "\n",
       "          Processor Type   Operating System            RAM     Storage  \n",
       "0          Intel Core i3  64 bit Windows 11  8 GB DDR4 RAM  256 GB SSD  \n",
       "1          Intel Core i3  64 bit Windows 11  8 GB DDR4 RAM  512 GB SSD  \n",
       "2          Intel Core i3  64 bit Windows 11  8 GB DDR4 RAM  512 GB SSD  \n",
       "3  AMD Ryzen 5 Hexa Core  64 bit Windows 10  8 GB DDR4 RAM  512 GB SSD  \n",
       "4          Intel Core i5         Windows 11  8 GB DDR4 RAM  512 GB SSD  "
      ]
     },
     "execution_count": 14,
     "metadata": {},
     "output_type": "execute_result"
    }
   ],
   "source": [
    "df.head()"
   ]
  },
  {
   "cell_type": "code",
   "execution_count": 15,
   "id": "1317b13b",
   "metadata": {},
   "outputs": [
    {
     "data": {
      "text/plain": [
       "array(['Lenovo', 'ASUS', 'HP', 'DELL', 'RedmiBook', 'realme', 'acer',\n",
       "       'MSI', 'APPLE', 'Infinix', 'SAMSUNG', 'Ultimus', 'Vaio',\n",
       "       'GIGABYTE', 'Nokia', 'ALIENWARE'], dtype=object)"
      ]
     },
     "execution_count": 15,
     "metadata": {},
     "output_type": "execute_result"
    }
   ],
   "source": [
    "df['Brand'].unique()"
   ]
  },
  {
   "cell_type": "code",
   "execution_count": 16,
   "id": "4fbf8398",
   "metadata": {},
   "outputs": [
    {
     "data": {
      "text/plain": [
       "array(['Intel Core i3', 'AMD Ryzen 5 Hexa Core', 'Intel Core i5', '',\n",
       "       'AMD Ryzen 7 Quad Core', 'AMD Ryzen 5 Quad Core',\n",
       "       'AMD Ryzen 9 Octa Core', 'AMD Ryzen 7 Octa Core', 'Apple M1',\n",
       "       'Intel Celeron Dual Core', 'AMD Ryzen 3 Dual Core',\n",
       "       'AMD Athlon Dual Core', 'AMD Ryzen 3 Quad Core', 'Apple M2',\n",
       "       'Intel Celeron Quad Core', 'Intel Core i7', 'Apple M1 Pro',\n",
       "       'Apple M1 Max', 'Intel Core i9', 'Intel Pentium Silver',\n",
       "       'AMD Ryzen 5 Dual Core', 'Intel Pentium Quad Core',\n",
       "       'AMD Dual Core', 'AMD Ryzen 3 Hexa Core'], dtype=object)"
      ]
     },
     "execution_count": 16,
     "metadata": {},
     "output_type": "execute_result"
    }
   ],
   "source": [
    "df['Processor Type'].unique()"
   ]
  },
  {
   "cell_type": "code",
   "execution_count": 17,
   "id": "f738c3d2",
   "metadata": {},
   "outputs": [
    {
     "data": {
      "text/html": [
       "<div>\n",
       "<style scoped>\n",
       "    .dataframe tbody tr th:only-of-type {\n",
       "        vertical-align: middle;\n",
       "    }\n",
       "\n",
       "    .dataframe tbody tr th {\n",
       "        vertical-align: top;\n",
       "    }\n",
       "\n",
       "    .dataframe thead th {\n",
       "        text-align: right;\n",
       "    }\n",
       "</style>\n",
       "<table border=\"1\" class=\"dataframe\">\n",
       "  <thead>\n",
       "    <tr style=\"text-align: right;\">\n",
       "      <th></th>\n",
       "      <th>Product</th>\n",
       "      <th>Rating</th>\n",
       "      <th>MRP</th>\n",
       "      <th>Feature</th>\n",
       "      <th>Brand</th>\n",
       "      <th>Processor Type</th>\n",
       "      <th>Operating System</th>\n",
       "      <th>RAM</th>\n",
       "      <th>Storage</th>\n",
       "    </tr>\n",
       "  </thead>\n",
       "  <tbody>\n",
       "    <tr>\n",
       "      <th>6</th>\n",
       "      <td>DELL Inspiron Core i3 11th Gen - (8 GB/1 TB HD...</td>\n",
       "      <td>4.3</td>\n",
       "      <td>38990</td>\n",
       "      <td>Processor: Intel i3-1115G4 (Base- 1.70 GHz &amp; T...</td>\n",
       "      <td>DELL</td>\n",
       "      <td></td>\n",
       "      <td>Windows 11</td>\n",
       "      <td>8 GB DDR4 RAM</td>\n",
       "      <td>1 TB HDD256 GB SSD</td>\n",
       "    </tr>\n",
       "    <tr>\n",
       "      <th>8</th>\n",
       "      <td>realme Book (Slim) Core i3 11th Gen - (8 GB/25...</td>\n",
       "      <td>4.4</td>\n",
       "      <td>46990</td>\n",
       "      <td>Stylish &amp; Portable Thin and Light Laptop14 inc...</td>\n",
       "      <td>realme</td>\n",
       "      <td></td>\n",
       "      <td>64 bit Windows 10</td>\n",
       "      <td>8 GB DDR4 RAM</td>\n",
       "      <td>256 GB SSD</td>\n",
       "    </tr>\n",
       "    <tr>\n",
       "      <th>29</th>\n",
       "      <td>realme Book (Slim) Core i3 11th Gen - (8 GB/25...</td>\n",
       "      <td>4.4</td>\n",
       "      <td>46990</td>\n",
       "      <td>Stylish &amp; Portable Thin and Light Laptop14 inc...</td>\n",
       "      <td>realme</td>\n",
       "      <td></td>\n",
       "      <td>64 bit Windows 10</td>\n",
       "      <td>8 GB DDR4 RAM</td>\n",
       "      <td>256 GB SSD</td>\n",
       "    </tr>\n",
       "    <tr>\n",
       "      <th>33</th>\n",
       "      <td>acer Aspire 7 Ryzen 5 Hexa Core AMD R5-5500U -...</td>\n",
       "      <td>4.4</td>\n",
       "      <td>47990</td>\n",
       "      <td>Free upgrade to Windows 11 when availableAMD R...</td>\n",
       "      <td>acer</td>\n",
       "      <td></td>\n",
       "      <td>64 bit Windows 11</td>\n",
       "      <td>8 GB DDR4 RAM</td>\n",
       "      <td>512 GB SSD</td>\n",
       "    </tr>\n",
       "    <tr>\n",
       "      <th>53</th>\n",
       "      <td>realme Book(Slim) Intel Evo Core i5 11th Gen -...</td>\n",
       "      <td>4.4</td>\n",
       "      <td>59990</td>\n",
       "      <td>Powered by 11th Gen Intel Evo Core i5 Processo...</td>\n",
       "      <td>realme</td>\n",
       "      <td></td>\n",
       "      <td>64 bit Windows 10</td>\n",
       "      <td>8 GB DDR4 RAM</td>\n",
       "      <td>512 GB SSD</td>\n",
       "    </tr>\n",
       "    <tr>\n",
       "      <th>54</th>\n",
       "      <td>acer Aspire 7 Core i5 10th Gen - (8 GB/512 GB ...</td>\n",
       "      <td>4.4</td>\n",
       "      <td>47990</td>\n",
       "      <td>Free upgrade to Windows 11 when availableIntel...</td>\n",
       "      <td>acer</td>\n",
       "      <td></td>\n",
       "      <td>64 bit Windows 10</td>\n",
       "      <td>8 GB DDR4 RAM</td>\n",
       "      <td>512 GB SSD</td>\n",
       "    </tr>\n",
       "    <tr>\n",
       "      <th>69</th>\n",
       "      <td>DELL Ryzen 5 Hexa Core AMD R5-5600H - (16 GB/5...</td>\n",
       "      <td>4.6</td>\n",
       "      <td>70990</td>\n",
       "      <td>Processor: AMD Ryzen R5-5600H (3.30 GHz up to ...</td>\n",
       "      <td>DELL</td>\n",
       "      <td></td>\n",
       "      <td>64 bit Windows 11</td>\n",
       "      <td>16 GB DDR4 RAM</td>\n",
       "      <td>512 GB SSD</td>\n",
       "    </tr>\n",
       "    <tr>\n",
       "      <th>83</th>\n",
       "      <td>SAMSUNG Galaxy Book Go Snapdragon 7c Gen 2 - (...</td>\n",
       "      <td>4.4</td>\n",
       "      <td>32990</td>\n",
       "      <td>Qualcomm Snapdragon 7c Gen 2 Processor4 GB LPD...</td>\n",
       "      <td>SAMSUNG</td>\n",
       "      <td></td>\n",
       "      <td>Windows 11</td>\n",
       "      <td>4 GB LPDDR4X RAM</td>\n",
       "      <td></td>\n",
       "    </tr>\n",
       "    <tr>\n",
       "      <th>94</th>\n",
       "      <td>DELL Inspiron Pentium Silver - (8 GB/256 GB SS...</td>\n",
       "      <td>4.2</td>\n",
       "      <td>30428</td>\n",
       "      <td>Processor: Intel PQC-N5030 (1.10 GHz up to 3.1...</td>\n",
       "      <td>DELL</td>\n",
       "      <td></td>\n",
       "      <td>64 bit Windows 11</td>\n",
       "      <td>8 GB DDR4 RAM</td>\n",
       "      <td>256 GB SSD</td>\n",
       "    </tr>\n",
       "    <tr>\n",
       "      <th>116</th>\n",
       "      <td>realme Book(Slim) Intel Evo Core i5 11th Gen -...</td>\n",
       "      <td>4.4</td>\n",
       "      <td>59990</td>\n",
       "      <td>Powered by 11th Gen Intel Evo Core i5 Processo...</td>\n",
       "      <td>realme</td>\n",
       "      <td></td>\n",
       "      <td>64 bit Windows 10</td>\n",
       "      <td>8 GB DDR4 RAM</td>\n",
       "      <td>512 GB SSD</td>\n",
       "    </tr>\n",
       "    <tr>\n",
       "      <th>122</th>\n",
       "      <td>DELL Ryzen 7 Octa Core AMD R7-5800H - (16 GB/5...</td>\n",
       "      <td>5.0</td>\n",
       "      <td>89081</td>\n",
       "      <td>NVIDIA RTX 3050 Graphics upto 90W TGP15.6 inch...</td>\n",
       "      <td>DELL</td>\n",
       "      <td></td>\n",
       "      <td>64 bit Windows 11</td>\n",
       "      <td>16 GB DDR4 RAM</td>\n",
       "      <td>512 GB SSD</td>\n",
       "    </tr>\n",
       "    <tr>\n",
       "      <th>142</th>\n",
       "      <td>DELL Vostro Ryzen 3 Dual Core R3-3250U - (8 GB...</td>\n",
       "      <td>3.8</td>\n",
       "      <td>33099</td>\n",
       "      <td>Processor: AMD Ryzen 3-3250U (2.60 GHz up to 3...</td>\n",
       "      <td>DELL</td>\n",
       "      <td></td>\n",
       "      <td>64 bit Windows 11</td>\n",
       "      <td>8 GB DDR4 RAM</td>\n",
       "      <td>1 TB HDD</td>\n",
       "    </tr>\n",
       "    <tr>\n",
       "      <th>172</th>\n",
       "      <td>DELL Inspiron Core i3 11th Gen - (8 GB/1 TB HD...</td>\n",
       "      <td>4.3</td>\n",
       "      <td>45900</td>\n",
       "      <td>Processor: Intel i3-1115G4 (Base- 1.70 GHz &amp; T...</td>\n",
       "      <td>DELL</td>\n",
       "      <td></td>\n",
       "      <td>64 bit Windows 11</td>\n",
       "      <td>8 GB DDR4 RAM</td>\n",
       "      <td>1 TB HDD256 GB SSD</td>\n",
       "    </tr>\n",
       "    <tr>\n",
       "      <th>232</th>\n",
       "      <td>MSI Pulse GL66 Core i7 11th Gen - (16 GB/1 TB ...</td>\n",
       "      <td>4.5</td>\n",
       "      <td>114990</td>\n",
       "      <td>Pre-installed Genuine Windows 10 Home OSIntel ...</td>\n",
       "      <td>MSI</td>\n",
       "      <td></td>\n",
       "      <td>64 bit Windows 10</td>\n",
       "      <td>16 GB DDR4 RAM</td>\n",
       "      <td>1 TB SSD</td>\n",
       "    </tr>\n",
       "    <tr>\n",
       "      <th>249</th>\n",
       "      <td>DELL Inspiron Core i3 11th Gen - (8 GB/256 GB ...</td>\n",
       "      <td>4.3</td>\n",
       "      <td>54900</td>\n",
       "      <td>Processor: Intel i3-1125G4 (2.00 GHz up to 3.7...</td>\n",
       "      <td>DELL</td>\n",
       "      <td></td>\n",
       "      <td>64 bit Windows 11</td>\n",
       "      <td>8 GB DDR4 RAM</td>\n",
       "      <td>256 GB SSD</td>\n",
       "    </tr>\n",
       "    <tr>\n",
       "      <th>253</th>\n",
       "      <td>DELL Inspiron Ryzen 5 Dual Core 3450U - (8 GB/...</td>\n",
       "      <td>4.3</td>\n",
       "      <td>48184</td>\n",
       "      <td>Processor: AMD Ryzen 5-3450U (2.10 GHz up to 3...</td>\n",
       "      <td>DELL</td>\n",
       "      <td></td>\n",
       "      <td>64 bit Windows 11</td>\n",
       "      <td>8 GB DDR4 RAM</td>\n",
       "      <td>512 GB SSD</td>\n",
       "    </tr>\n",
       "    <tr>\n",
       "      <th>259</th>\n",
       "      <td>DELL Core i5 11th Gen - (8 GB/512 GB SSD/Windo...</td>\n",
       "      <td>4.4</td>\n",
       "      <td>67990</td>\n",
       "      <td>NVIDIA RTX 3050 Graphics upto 90W TGP15.6 inch...</td>\n",
       "      <td>DELL</td>\n",
       "      <td></td>\n",
       "      <td>64 bit Windows 11</td>\n",
       "      <td>8 GB DDR4 RAM</td>\n",
       "      <td>512 GB SSD</td>\n",
       "    </tr>\n",
       "    <tr>\n",
       "      <th>349</th>\n",
       "      <td>DELL Vostro Core i5 11th Gen - (8 GB/512 GB SS...</td>\n",
       "      <td>3.9</td>\n",
       "      <td>63090</td>\n",
       "      <td>Processor: 11th Generation Intel Core i5-1135G...</td>\n",
       "      <td>DELL</td>\n",
       "      <td></td>\n",
       "      <td>5Operating System64 bit Windows 10</td>\n",
       "      <td>8 GB DDR4 RAM</td>\n",
       "      <td>512 GB SSD</td>\n",
       "    </tr>\n",
       "    <tr>\n",
       "      <th>355</th>\n",
       "      <td>DELL Vostro Core i3 10th Gen - (8 GB/512 GB SS...</td>\n",
       "      <td>4.1</td>\n",
       "      <td>43090</td>\n",
       "      <td>Processor: 10th Generation Intel Core i3-1005G...</td>\n",
       "      <td>DELL</td>\n",
       "      <td></td>\n",
       "      <td>64 bit Windows 10</td>\n",
       "      <td>8 GB DDR4 RAM</td>\n",
       "      <td>512 GB SSD</td>\n",
       "    </tr>\n",
       "    <tr>\n",
       "      <th>393</th>\n",
       "      <td>acer Aspire 5 Core i5 11th Gen - (8 GB/1 TB HD...</td>\n",
       "      <td>4.0</td>\n",
       "      <td>47130</td>\n",
       "      <td>Free upgrade to Windows 11 when availableIntel...</td>\n",
       "      <td>acer</td>\n",
       "      <td></td>\n",
       "      <td>64 bit Windows 10</td>\n",
       "      <td>8 GB DDR4 RAM</td>\n",
       "      <td>1 TB HDD</td>\n",
       "    </tr>\n",
       "    <tr>\n",
       "      <th>438</th>\n",
       "      <td>acer Predator Helios 300 Core i5 7th Gen - (8 ...</td>\n",
       "      <td>4.5</td>\n",
       "      <td>129999</td>\n",
       "      <td>Pre-installed Genuine Windows 10 Operating Sys...</td>\n",
       "      <td>acer</td>\n",
       "      <td></td>\n",
       "      <td>Windows 1064 bit Windows 10</td>\n",
       "      <td>128 GB SSD for Reduced Boot Up Time and in Gam...</td>\n",
       "      <td>128 GB SSD1 TB HDD128 GB SSD</td>\n",
       "    </tr>\n",
       "    <tr>\n",
       "      <th>443</th>\n",
       "      <td>MSI Pulse GL66 Core i7 11th Gen - (16 GB/512 G...</td>\n",
       "      <td>4.6</td>\n",
       "      <td>107790</td>\n",
       "      <td>Pre-installed Genuine Windows 10 Home OSIntel ...</td>\n",
       "      <td>MSI</td>\n",
       "      <td></td>\n",
       "      <td>64 bit Windows 10</td>\n",
       "      <td>16 GB DDR4 RAM</td>\n",
       "      <td>512 GB SSD</td>\n",
       "    </tr>\n",
       "    <tr>\n",
       "      <th>502</th>\n",
       "      <td>acer Nitro 5 Ryzen 5 Hexa Core 4600H - (8 GB/1...</td>\n",
       "      <td>4.5</td>\n",
       "      <td>61490</td>\n",
       "      <td>Free upgrade to Windows 11 when availableAMD R...</td>\n",
       "      <td>acer</td>\n",
       "      <td></td>\n",
       "      <td>64 bit Windows 10</td>\n",
       "      <td>8 GB DDR4 RAM</td>\n",
       "      <td>1 TB HDD256 GB SSD</td>\n",
       "    </tr>\n",
       "    <tr>\n",
       "      <th>508</th>\n",
       "      <td>MSI GF63 Thin Core i5 9th Gen - (8 GB/1 TB HDD...</td>\n",
       "      <td>4.2</td>\n",
       "      <td>62190</td>\n",
       "      <td>15.6 inches Full HD IPS Thin Bezel Display (60...</td>\n",
       "      <td>MSI</td>\n",
       "      <td></td>\n",
       "      <td>64 bit Windows 10</td>\n",
       "      <td>8 GB DDR4 RAM</td>\n",
       "      <td>1 TB HDD</td>\n",
       "    </tr>\n",
       "    <tr>\n",
       "      <th>593</th>\n",
       "      <td>DELL Core i7 11th Gen - (16 GB/512 GB SSD/Wind...</td>\n",
       "      <td>4.2</td>\n",
       "      <td>101990</td>\n",
       "      <td>Processor: Intel i7-11800H- (2.30 GHz up to 4....</td>\n",
       "      <td>DELL</td>\n",
       "      <td></td>\n",
       "      <td>64 bit Windows 11</td>\n",
       "      <td>16 GB DDR4 RAM</td>\n",
       "      <td>512 GB SSD</td>\n",
       "    </tr>\n",
       "    <tr>\n",
       "      <th>622</th>\n",
       "      <td>MSI GP65 Leopard Core i7 10th Gen - (16 GB/1 T...</td>\n",
       "      <td>4.5</td>\n",
       "      <td>99990</td>\n",
       "      <td>15.6 inches Full HD IPS Thin Bezel Display (14...</td>\n",
       "      <td>MSI</td>\n",
       "      <td></td>\n",
       "      <td>64 bit Windows 10</td>\n",
       "      <td>16 GB DDR4 RAM</td>\n",
       "      <td>1 TB HDD256 GB SSD</td>\n",
       "    </tr>\n",
       "    <tr>\n",
       "      <th>628</th>\n",
       "      <td>ALIENWARE Core i9 10th Gen - (32 GB/1 TB SSD/W...</td>\n",
       "      <td>4.6</td>\n",
       "      <td>345390</td>\n",
       "      <td>NVIDIA GeForce RTX 2080 with Max-Q15.6 inch Fu...</td>\n",
       "      <td>ALIENWARE</td>\n",
       "      <td></td>\n",
       "      <td>64 bit Windows 10</td>\n",
       "      <td>32 GB DDR4 RAM</td>\n",
       "      <td>1 TB SSD</td>\n",
       "    </tr>\n",
       "    <tr>\n",
       "      <th>643</th>\n",
       "      <td>ASUS ZenBook Pro 15 Core i7 8th Gen - (16 GB/1...</td>\n",
       "      <td>4.8</td>\n",
       "      <td>110990</td>\n",
       "      <td>First Ever ScreenpadNVIDIA GeForce GTX 1050 Ti...</td>\n",
       "      <td>ASUS</td>\n",
       "      <td></td>\n",
       "      <td>64 bit Windows 10</td>\n",
       "      <td>16 GB DDR4 RAM</td>\n",
       "      <td>1 TB SSD</td>\n",
       "    </tr>\n",
       "    <tr>\n",
       "      <th>644</th>\n",
       "      <td>acer Predator Helios 300 Core i5 8th Gen - (8 ...</td>\n",
       "      <td>4.6</td>\n",
       "      <td>74590</td>\n",
       "      <td>NVIDIA Geforce GTX 1050 Ti for Desktop Level P...</td>\n",
       "      <td>acer</td>\n",
       "      <td></td>\n",
       "      <td>64 bit Windows 10</td>\n",
       "      <td>8 GB DDR4 RAM</td>\n",
       "      <td>128 GB SSD1 TB HDD128 GB SSD</td>\n",
       "    </tr>\n",
       "    <tr>\n",
       "      <th>645</th>\n",
       "      <td>DELL Ryzen 5 Hexa Core AMD R5-5600H - (8 GB/51...</td>\n",
       "      <td>4.7</td>\n",
       "      <td>71990</td>\n",
       "      <td>NVIDIA RTX 3050 Graphics upto 90W TGP15.6 inch...</td>\n",
       "      <td>DELL</td>\n",
       "      <td></td>\n",
       "      <td>64 bit Windows 11</td>\n",
       "      <td>8 GB DDR4 RAM</td>\n",
       "      <td>512 GB SSD</td>\n",
       "    </tr>\n",
       "    <tr>\n",
       "      <th>688</th>\n",
       "      <td>ALIENWARE Core i7 10th Gen - (16 GB/1 TB SSD/W...</td>\n",
       "      <td>4.1</td>\n",
       "      <td>214790</td>\n",
       "      <td>NVIDIA GeForce RTX 206015.6 inch Full HD LED B...</td>\n",
       "      <td>ALIENWARE</td>\n",
       "      <td></td>\n",
       "      <td>64 bit Windows 10</td>\n",
       "      <td>16 GB DDR4 RAM</td>\n",
       "      <td>1 TB SSD</td>\n",
       "    </tr>\n",
       "    <tr>\n",
       "      <th>689</th>\n",
       "      <td>ALIENWARE Core i7 10th Gen - (16 GB/512 GB SSD...</td>\n",
       "      <td>4.9</td>\n",
       "      <td>199990</td>\n",
       "      <td>NVIDIA GeForce GTX 1660 Ti15.6 inch Full HD LE...</td>\n",
       "      <td>ALIENWARE</td>\n",
       "      <td></td>\n",
       "      <td>64 bit Windows 10</td>\n",
       "      <td>16 GB DDR4 RAM</td>\n",
       "      <td>512 GB SSD</td>\n",
       "    </tr>\n",
       "  </tbody>\n",
       "</table>\n",
       "</div>"
      ],
      "text/plain": [
       "                                               Product  Rating     MRP  \\\n",
       "6    DELL Inspiron Core i3 11th Gen - (8 GB/1 TB HD...     4.3   38990   \n",
       "8    realme Book (Slim) Core i3 11th Gen - (8 GB/25...     4.4   46990   \n",
       "29   realme Book (Slim) Core i3 11th Gen - (8 GB/25...     4.4   46990   \n",
       "33   acer Aspire 7 Ryzen 5 Hexa Core AMD R5-5500U -...     4.4   47990   \n",
       "53   realme Book(Slim) Intel Evo Core i5 11th Gen -...     4.4   59990   \n",
       "54   acer Aspire 7 Core i5 10th Gen - (8 GB/512 GB ...     4.4   47990   \n",
       "69   DELL Ryzen 5 Hexa Core AMD R5-5600H - (16 GB/5...     4.6   70990   \n",
       "83   SAMSUNG Galaxy Book Go Snapdragon 7c Gen 2 - (...     4.4   32990   \n",
       "94   DELL Inspiron Pentium Silver - (8 GB/256 GB SS...     4.2   30428   \n",
       "116  realme Book(Slim) Intel Evo Core i5 11th Gen -...     4.4   59990   \n",
       "122  DELL Ryzen 7 Octa Core AMD R7-5800H - (16 GB/5...     5.0   89081   \n",
       "142  DELL Vostro Ryzen 3 Dual Core R3-3250U - (8 GB...     3.8   33099   \n",
       "172  DELL Inspiron Core i3 11th Gen - (8 GB/1 TB HD...     4.3   45900   \n",
       "232  MSI Pulse GL66 Core i7 11th Gen - (16 GB/1 TB ...     4.5  114990   \n",
       "249  DELL Inspiron Core i3 11th Gen - (8 GB/256 GB ...     4.3   54900   \n",
       "253  DELL Inspiron Ryzen 5 Dual Core 3450U - (8 GB/...     4.3   48184   \n",
       "259  DELL Core i5 11th Gen - (8 GB/512 GB SSD/Windo...     4.4   67990   \n",
       "349  DELL Vostro Core i5 11th Gen - (8 GB/512 GB SS...     3.9   63090   \n",
       "355  DELL Vostro Core i3 10th Gen - (8 GB/512 GB SS...     4.1   43090   \n",
       "393  acer Aspire 5 Core i5 11th Gen - (8 GB/1 TB HD...     4.0   47130   \n",
       "438  acer Predator Helios 300 Core i5 7th Gen - (8 ...     4.5  129999   \n",
       "443  MSI Pulse GL66 Core i7 11th Gen - (16 GB/512 G...     4.6  107790   \n",
       "502  acer Nitro 5 Ryzen 5 Hexa Core 4600H - (8 GB/1...     4.5   61490   \n",
       "508  MSI GF63 Thin Core i5 9th Gen - (8 GB/1 TB HDD...     4.2   62190   \n",
       "593  DELL Core i7 11th Gen - (16 GB/512 GB SSD/Wind...     4.2  101990   \n",
       "622  MSI GP65 Leopard Core i7 10th Gen - (16 GB/1 T...     4.5   99990   \n",
       "628  ALIENWARE Core i9 10th Gen - (32 GB/1 TB SSD/W...     4.6  345390   \n",
       "643  ASUS ZenBook Pro 15 Core i7 8th Gen - (16 GB/1...     4.8  110990   \n",
       "644  acer Predator Helios 300 Core i5 8th Gen - (8 ...     4.6   74590   \n",
       "645  DELL Ryzen 5 Hexa Core AMD R5-5600H - (8 GB/51...     4.7   71990   \n",
       "688  ALIENWARE Core i7 10th Gen - (16 GB/1 TB SSD/W...     4.1  214790   \n",
       "689  ALIENWARE Core i7 10th Gen - (16 GB/512 GB SSD...     4.9  199990   \n",
       "\n",
       "                                               Feature      Brand  \\\n",
       "6    Processor: Intel i3-1115G4 (Base- 1.70 GHz & T...       DELL   \n",
       "8    Stylish & Portable Thin and Light Laptop14 inc...     realme   \n",
       "29   Stylish & Portable Thin and Light Laptop14 inc...     realme   \n",
       "33   Free upgrade to Windows 11 when availableAMD R...       acer   \n",
       "53   Powered by 11th Gen Intel Evo Core i5 Processo...     realme   \n",
       "54   Free upgrade to Windows 11 when availableIntel...       acer   \n",
       "69   Processor: AMD Ryzen R5-5600H (3.30 GHz up to ...       DELL   \n",
       "83   Qualcomm Snapdragon 7c Gen 2 Processor4 GB LPD...    SAMSUNG   \n",
       "94   Processor: Intel PQC-N5030 (1.10 GHz up to 3.1...       DELL   \n",
       "116  Powered by 11th Gen Intel Evo Core i5 Processo...     realme   \n",
       "122  NVIDIA RTX 3050 Graphics upto 90W TGP15.6 inch...       DELL   \n",
       "142  Processor: AMD Ryzen 3-3250U (2.60 GHz up to 3...       DELL   \n",
       "172  Processor: Intel i3-1115G4 (Base- 1.70 GHz & T...       DELL   \n",
       "232  Pre-installed Genuine Windows 10 Home OSIntel ...        MSI   \n",
       "249  Processor: Intel i3-1125G4 (2.00 GHz up to 3.7...       DELL   \n",
       "253  Processor: AMD Ryzen 5-3450U (2.10 GHz up to 3...       DELL   \n",
       "259  NVIDIA RTX 3050 Graphics upto 90W TGP15.6 inch...       DELL   \n",
       "349  Processor: 11th Generation Intel Core i5-1135G...       DELL   \n",
       "355  Processor: 10th Generation Intel Core i3-1005G...       DELL   \n",
       "393  Free upgrade to Windows 11 when availableIntel...       acer   \n",
       "438  Pre-installed Genuine Windows 10 Operating Sys...       acer   \n",
       "443  Pre-installed Genuine Windows 10 Home OSIntel ...        MSI   \n",
       "502  Free upgrade to Windows 11 when availableAMD R...       acer   \n",
       "508  15.6 inches Full HD IPS Thin Bezel Display (60...        MSI   \n",
       "593  Processor: Intel i7-11800H- (2.30 GHz up to 4....       DELL   \n",
       "622  15.6 inches Full HD IPS Thin Bezel Display (14...        MSI   \n",
       "628  NVIDIA GeForce RTX 2080 with Max-Q15.6 inch Fu...  ALIENWARE   \n",
       "643  First Ever ScreenpadNVIDIA GeForce GTX 1050 Ti...       ASUS   \n",
       "644  NVIDIA Geforce GTX 1050 Ti for Desktop Level P...       acer   \n",
       "645  NVIDIA RTX 3050 Graphics upto 90W TGP15.6 inch...       DELL   \n",
       "688  NVIDIA GeForce RTX 206015.6 inch Full HD LED B...  ALIENWARE   \n",
       "689  NVIDIA GeForce GTX 1660 Ti15.6 inch Full HD LE...  ALIENWARE   \n",
       "\n",
       "    Processor Type                    Operating System  \\\n",
       "6                                           Windows 11   \n",
       "8                                    64 bit Windows 10   \n",
       "29                                   64 bit Windows 10   \n",
       "33                                   64 bit Windows 11   \n",
       "53                                   64 bit Windows 10   \n",
       "54                                   64 bit Windows 10   \n",
       "69                                   64 bit Windows 11   \n",
       "83                                          Windows 11   \n",
       "94                                   64 bit Windows 11   \n",
       "116                                  64 bit Windows 10   \n",
       "122                                  64 bit Windows 11   \n",
       "142                                  64 bit Windows 11   \n",
       "172                                  64 bit Windows 11   \n",
       "232                                  64 bit Windows 10   \n",
       "249                                  64 bit Windows 11   \n",
       "253                                  64 bit Windows 11   \n",
       "259                                  64 bit Windows 11   \n",
       "349                 5Operating System64 bit Windows 10   \n",
       "355                                  64 bit Windows 10   \n",
       "393                                  64 bit Windows 10   \n",
       "438                        Windows 1064 bit Windows 10   \n",
       "443                                  64 bit Windows 10   \n",
       "502                                  64 bit Windows 10   \n",
       "508                                  64 bit Windows 10   \n",
       "593                                  64 bit Windows 11   \n",
       "622                                  64 bit Windows 10   \n",
       "628                                  64 bit Windows 10   \n",
       "643                                  64 bit Windows 10   \n",
       "644                                  64 bit Windows 10   \n",
       "645                                  64 bit Windows 11   \n",
       "688                                  64 bit Windows 10   \n",
       "689                                  64 bit Windows 10   \n",
       "\n",
       "                                                   RAM  \\\n",
       "6                                        8 GB DDR4 RAM   \n",
       "8                                        8 GB DDR4 RAM   \n",
       "29                                       8 GB DDR4 RAM   \n",
       "33                                       8 GB DDR4 RAM   \n",
       "53                                       8 GB DDR4 RAM   \n",
       "54                                       8 GB DDR4 RAM   \n",
       "69                                      16 GB DDR4 RAM   \n",
       "83                                    4 GB LPDDR4X RAM   \n",
       "94                                       8 GB DDR4 RAM   \n",
       "116                                      8 GB DDR4 RAM   \n",
       "122                                     16 GB DDR4 RAM   \n",
       "142                                      8 GB DDR4 RAM   \n",
       "172                                      8 GB DDR4 RAM   \n",
       "232                                     16 GB DDR4 RAM   \n",
       "249                                      8 GB DDR4 RAM   \n",
       "253                                      8 GB DDR4 RAM   \n",
       "259                                      8 GB DDR4 RAM   \n",
       "349                                      8 GB DDR4 RAM   \n",
       "355                                      8 GB DDR4 RAM   \n",
       "393                                      8 GB DDR4 RAM   \n",
       "438  128 GB SSD for Reduced Boot Up Time and in Gam...   \n",
       "443                                     16 GB DDR4 RAM   \n",
       "502                                      8 GB DDR4 RAM   \n",
       "508                                      8 GB DDR4 RAM   \n",
       "593                                     16 GB DDR4 RAM   \n",
       "622                                     16 GB DDR4 RAM   \n",
       "628                                     32 GB DDR4 RAM   \n",
       "643                                     16 GB DDR4 RAM   \n",
       "644                                      8 GB DDR4 RAM   \n",
       "645                                      8 GB DDR4 RAM   \n",
       "688                                     16 GB DDR4 RAM   \n",
       "689                                     16 GB DDR4 RAM   \n",
       "\n",
       "                          Storage  \n",
       "6              1 TB HDD256 GB SSD  \n",
       "8                      256 GB SSD  \n",
       "29                     256 GB SSD  \n",
       "33                     512 GB SSD  \n",
       "53                     512 GB SSD  \n",
       "54                     512 GB SSD  \n",
       "69                     512 GB SSD  \n",
       "83                                 \n",
       "94                     256 GB SSD  \n",
       "116                    512 GB SSD  \n",
       "122                    512 GB SSD  \n",
       "142                      1 TB HDD  \n",
       "172            1 TB HDD256 GB SSD  \n",
       "232                      1 TB SSD  \n",
       "249                    256 GB SSD  \n",
       "253                    512 GB SSD  \n",
       "259                    512 GB SSD  \n",
       "349                    512 GB SSD  \n",
       "355                    512 GB SSD  \n",
       "393                      1 TB HDD  \n",
       "438  128 GB SSD1 TB HDD128 GB SSD  \n",
       "443                    512 GB SSD  \n",
       "502            1 TB HDD256 GB SSD  \n",
       "508                      1 TB HDD  \n",
       "593                    512 GB SSD  \n",
       "622            1 TB HDD256 GB SSD  \n",
       "628                      1 TB SSD  \n",
       "643                      1 TB SSD  \n",
       "644  128 GB SSD1 TB HDD128 GB SSD  \n",
       "645                    512 GB SSD  \n",
       "688                      1 TB SSD  \n",
       "689                    512 GB SSD  "
      ]
     },
     "execution_count": 17,
     "metadata": {},
     "output_type": "execute_result"
    }
   ],
   "source": [
    "df[df['Processor Type']=='']\n"
   ]
  },
  {
   "cell_type": "code",
   "execution_count": 18,
   "id": "a09c6ae4",
   "metadata": {},
   "outputs": [],
   "source": [
    "df.iloc[6,5]='Intel i3-1115G4'\n",
    "df.iloc[8,5]='Intel Core i3'\n",
    "df.iloc[29,5]='Intel Core i3'\n",
    "df.iloc[33,5]='AMD Ryzen 5 Hexa Core'\n",
    "df.iloc[53,5]='Intel Evo Core i5'\n",
    "df.iloc[54,5]='Intel Core i5'\n",
    "df.iloc[69,5]='AMD Ryzen R5-5600H'\n",
    "df.iloc[83,5]='Qualcomm Snapdragon 7c Gen 2'\n",
    "df.iloc[94,5]='Intel PQC-N5030'\n",
    "df.iloc[116,5]='Gen Intel Evo Core i5'\n",
    "df.iloc[122,5]='AMD Ryzen 7 Octa Core'\n",
    "df.iloc[142,5]='AMD Ryzen 3 Dual Core'\n",
    "df.iloc[172,5]='Intel i3-1115G4'\n",
    "df.iloc[232,5]='Intel Core i7'\n",
    "df.iloc[249,5]='Intel i3-1125G4'\n",
    "df.iloc[253,5]='AMD Ryzen 5-3450U'\n",
    "df.iloc[259,5]='Intel Core i5'\n",
    "df.iloc[349,5]='Intel Core i5-1135G7'\n",
    "df.iloc[355,5]='Intel Core i3-1005G1'\n",
    "df.iloc[393,5]='Intel Core i5'\n",
    "df.iloc[438,5]='Intel Core i5'\n",
    "df.iloc[443,5]='Intel Core i7'\n",
    "df.iloc[502,5]='AMD Ryzen 5 Hexa Core'\n",
    "df.iloc[508,5]='Intel Core i5 Pro'\n",
    "df.iloc[593,5]='Intel i7-11800H'\n",
    "df.iloc[622,5]='Intel Core i7'\n",
    "df.iloc[628,5]='Intel Core i9'\n",
    "df.iloc[643,5]='Intel Core i7'\n",
    "df.iloc[644,5]='Intel Core i5'\n",
    "df.iloc[645,5]='AMD Ryzen 5 Hexa Core'\n",
    "df.iloc[688,5]='Intel Core i7'\n",
    "df.iloc[689,5]='Intel Core i7'\n"
   ]
  },
  {
   "cell_type": "code",
   "execution_count": 19,
   "id": "aff3c070",
   "metadata": {},
   "outputs": [
    {
     "data": {
      "text/plain": [
       "0"
      ]
     },
     "execution_count": 19,
     "metadata": {},
     "output_type": "execute_result"
    }
   ],
   "source": [
    "len(df[df['Processor Type']==''])\n"
   ]
  },
  {
   "cell_type": "code",
   "execution_count": 20,
   "id": "9ba0784e",
   "metadata": {},
   "outputs": [],
   "source": [
    "df['Processor Type'].replace(\"Gen Intel Evo Core i5\",\"Intel Evo Core i5\", inplace=True)"
   ]
  },
  {
   "cell_type": "code",
   "execution_count": 21,
   "id": "dd8ed569",
   "metadata": {},
   "outputs": [
    {
     "data": {
      "text/plain": [
       "array(['Intel', 'AMD', 'Apple', 'Qualcomm'], dtype=object)"
      ]
     },
     "execution_count": 21,
     "metadata": {},
     "output_type": "execute_result"
    }
   ],
   "source": [
    "df[['Processor','x','y','z','a']]=df['Processor Type'].str.split(\" \", expand=True)\n",
    "df.drop(['Processor Type','x','y','z','a'], axis=1, inplace=True)\n",
    "df['Processor'].unique()"
   ]
  },
  {
   "cell_type": "code",
   "execution_count": 22,
   "id": "35676eb0",
   "metadata": {},
   "outputs": [
    {
     "data": {
      "text/plain": [
       "array(['Windows 11', 'Windows 10', 'Mac', 'Chrome', 'DOS'], dtype=object)"
      ]
     },
     "execution_count": 22,
     "metadata": {},
     "output_type": "execute_result"
    }
   ],
   "source": [
    "df['Operating System'].replace({'MMac OS':'Mac', 'OS':'Mac', 'MChrome':'Chrome',\n",
    "                                '5Operating System64 bit Windows 10':'Windows 10',\n",
    "                               ' Windows 1064 bit Windows 10':'Windows 10',\n",
    "                               '64 bit Chrome':'Chrome'}, inplace=True)\n",
    "\n",
    "df['Operating System']=df['Operating System'].apply(lambda x: x.replace('64 bit ', '').replace('32 bit ','').replace('64 bit ',''))\n",
    "df['Operating System'].unique()"
   ]
  },
  {
   "cell_type": "code",
   "execution_count": 23,
   "id": "90056954",
   "metadata": {},
   "outputs": [
    {
     "data": {
      "text/plain": [
       "array(['8 GB DDR4 RAM', '16 GB DDR4 RAM', '16 GB DDR5 RAM',\n",
       "       '4 GB LPDDR4 RAM', '4 GB DDR4 RAM', '8 GB Unified RAM',\n",
       "       '8 GB LPDDR4X RAM', '16 GB Unified RAM', '4 GB LPDDR4X RAM',\n",
       "       '16 GB LPDDR4X RAM', '16 GB LPDDR5 RAM', '32 GB Unified RAM',\n",
       "       '16 GB LPDDR4 RAM', '32 GB DDR5 RAM', '8 GB DDR5 RAM',\n",
       "       '32 GB DDR4 RAM', '32 GB LPDDR4X RAM', '16 GB LPDDR3 RAM'],\n",
       "      dtype=object)"
      ]
     },
     "execution_count": 23,
     "metadata": {},
     "output_type": "execute_result"
    }
   ],
   "source": [
    "df['RAM']=df['RAM'].apply(lambda x: x.replace(\"128 GB SSD for Reduced Boot Up Time and in Game LoadingUpgradable SSD Upto 512 GB and RAM8 GB DDR4 RAM\",\"8 GB DDR4 RAM\"))\n",
    "df['RAM']=df['RAM'].apply(lambda x: x.replace(\"Unified Memory\",\"Unified\"))\n",
    "df['RAM'].unique()\n"
   ]
  },
  {
   "cell_type": "code",
   "execution_count": 24,
   "id": "cdc8af38",
   "metadata": {},
   "outputs": [
    {
     "data": {
      "text/html": [
       "<div>\n",
       "<style scoped>\n",
       "    .dataframe tbody tr th:only-of-type {\n",
       "        vertical-align: middle;\n",
       "    }\n",
       "\n",
       "    .dataframe tbody tr th {\n",
       "        vertical-align: top;\n",
       "    }\n",
       "\n",
       "    .dataframe thead th {\n",
       "        text-align: right;\n",
       "    }\n",
       "</style>\n",
       "<table border=\"1\" class=\"dataframe\">\n",
       "  <thead>\n",
       "    <tr style=\"text-align: right;\">\n",
       "      <th></th>\n",
       "      <th>Product</th>\n",
       "      <th>Rating</th>\n",
       "      <th>MRP</th>\n",
       "      <th>Feature</th>\n",
       "      <th>Brand</th>\n",
       "      <th>Operating System</th>\n",
       "      <th>Storage</th>\n",
       "      <th>Processor</th>\n",
       "      <th>RAM Size</th>\n",
       "      <th>RAM Type</th>\n",
       "    </tr>\n",
       "  </thead>\n",
       "  <tbody>\n",
       "    <tr>\n",
       "      <th>0</th>\n",
       "      <td>Lenovo IdeaPad 3 Core i3 11th Gen - (8 GB/256 ...</td>\n",
       "      <td>4.2</td>\n",
       "      <td>36990</td>\n",
       "      <td>Intel Core i3 Processor (11th Gen)8 GB DDR4 RA...</td>\n",
       "      <td>Lenovo</td>\n",
       "      <td>Windows 11</td>\n",
       "      <td>256 GB SSD</td>\n",
       "      <td>Intel</td>\n",
       "      <td>8GB</td>\n",
       "      <td>DDR4</td>\n",
       "    </tr>\n",
       "    <tr>\n",
       "      <th>1</th>\n",
       "      <td>Lenovo IdeaPad 3 Core i3 11th Gen - (8 GB/512 ...</td>\n",
       "      <td>4.2</td>\n",
       "      <td>39990</td>\n",
       "      <td>Intel Core i3 Processor (11th Gen)8 GB DDR4 RA...</td>\n",
       "      <td>Lenovo</td>\n",
       "      <td>Windows 11</td>\n",
       "      <td>512 GB SSD</td>\n",
       "      <td>Intel</td>\n",
       "      <td>8GB</td>\n",
       "      <td>DDR4</td>\n",
       "    </tr>\n",
       "    <tr>\n",
       "      <th>2</th>\n",
       "      <td>ASUS VivoBook 15 (2022) Core i3 10th Gen - (8 ...</td>\n",
       "      <td>4.3</td>\n",
       "      <td>32990</td>\n",
       "      <td>Intel Core i3 Processor (10th Gen)8 GB DDR4 RA...</td>\n",
       "      <td>ASUS</td>\n",
       "      <td>Windows 11</td>\n",
       "      <td>512 GB SSD</td>\n",
       "      <td>Intel</td>\n",
       "      <td>8GB</td>\n",
       "      <td>DDR4</td>\n",
       "    </tr>\n",
       "    <tr>\n",
       "      <th>3</th>\n",
       "      <td>HP Pavilion Ryzen 5 Hexa Core AMD R5-5600H - (...</td>\n",
       "      <td>4.4</td>\n",
       "      <td>49990</td>\n",
       "      <td>AMD Ryzen 5 Hexa Core Processor8 GB DDR4 RAM64...</td>\n",
       "      <td>HP</td>\n",
       "      <td>Windows 10</td>\n",
       "      <td>512 GB SSD</td>\n",
       "      <td>AMD</td>\n",
       "      <td>8GB</td>\n",
       "      <td>DDR4</td>\n",
       "    </tr>\n",
       "    <tr>\n",
       "      <th>4</th>\n",
       "      <td>ASUS TUF Gaming F15 Core i5 10th Gen - (8 GB/5...</td>\n",
       "      <td>4.4</td>\n",
       "      <td>49990</td>\n",
       "      <td>Intel Core i5 Processor (10th Gen)8 GB DDR4 RA...</td>\n",
       "      <td>ASUS</td>\n",
       "      <td>Windows 11</td>\n",
       "      <td>512 GB SSD</td>\n",
       "      <td>Intel</td>\n",
       "      <td>8GB</td>\n",
       "      <td>DDR4</td>\n",
       "    </tr>\n",
       "  </tbody>\n",
       "</table>\n",
       "</div>"
      ],
      "text/plain": [
       "                                             Product  Rating    MRP  \\\n",
       "0  Lenovo IdeaPad 3 Core i3 11th Gen - (8 GB/256 ...     4.2  36990   \n",
       "1  Lenovo IdeaPad 3 Core i3 11th Gen - (8 GB/512 ...     4.2  39990   \n",
       "2  ASUS VivoBook 15 (2022) Core i3 10th Gen - (8 ...     4.3  32990   \n",
       "3  HP Pavilion Ryzen 5 Hexa Core AMD R5-5600H - (...     4.4  49990   \n",
       "4  ASUS TUF Gaming F15 Core i5 10th Gen - (8 GB/5...     4.4  49990   \n",
       "\n",
       "                                             Feature   Brand Operating System  \\\n",
       "0  Intel Core i3 Processor (11th Gen)8 GB DDR4 RA...  Lenovo       Windows 11   \n",
       "1  Intel Core i3 Processor (11th Gen)8 GB DDR4 RA...  Lenovo       Windows 11   \n",
       "2  Intel Core i3 Processor (10th Gen)8 GB DDR4 RA...    ASUS       Windows 11   \n",
       "3  AMD Ryzen 5 Hexa Core Processor8 GB DDR4 RAM64...      HP       Windows 10   \n",
       "4  Intel Core i5 Processor (10th Gen)8 GB DDR4 RA...    ASUS       Windows 11   \n",
       "\n",
       "      Storage Processor RAM Size RAM Type  \n",
       "0  256 GB SSD     Intel      8GB     DDR4  \n",
       "1  512 GB SSD     Intel      8GB     DDR4  \n",
       "2  512 GB SSD     Intel      8GB     DDR4  \n",
       "3  512 GB SSD       AMD      8GB     DDR4  \n",
       "4  512 GB SSD     Intel      8GB     DDR4  "
      ]
     },
     "execution_count": 24,
     "metadata": {},
     "output_type": "execute_result"
    }
   ],
   "source": [
    "df[['RAM Size','GB', 'RAM Type', 'RAM1']]=df['RAM'].str.split(' ', expand=True)\n",
    "\n",
    "df.drop(['GB','RAM1','RAM'], axis=1, inplace=True)\n",
    "df['RAM Size']=df['RAM Size']+\"GB\"\n",
    "df.head()"
   ]
  },
  {
   "cell_type": "code",
   "execution_count": 25,
   "id": "f7ff0328",
   "metadata": {},
   "outputs": [
    {
     "data": {
      "text/plain": [
       "array(['256 GB SSD', '512 GB SSD', '1 TB HDD256 GB SSD', '1 TB SSD',\n",
       "       '256 GB HDD256 GB SSD', '', '1 TB HDD', '128 GB SSD',\n",
       "       '1 TB HDD512 GB SSD', '128 GB SSD1 TB HDD128 GB SSD', '2 TB SSD'],\n",
       "      dtype=object)"
      ]
     },
     "execution_count": 25,
     "metadata": {},
     "output_type": "execute_result"
    }
   ],
   "source": [
    "df['Storage'].unique()"
   ]
  },
  {
   "cell_type": "code",
   "execution_count": 26,
   "id": "cc19f194",
   "metadata": {},
   "outputs": [
    {
     "data": {
      "text/html": [
       "<div>\n",
       "<style scoped>\n",
       "    .dataframe tbody tr th:only-of-type {\n",
       "        vertical-align: middle;\n",
       "    }\n",
       "\n",
       "    .dataframe tbody tr th {\n",
       "        vertical-align: top;\n",
       "    }\n",
       "\n",
       "    .dataframe thead th {\n",
       "        text-align: right;\n",
       "    }\n",
       "</style>\n",
       "<table border=\"1\" class=\"dataframe\">\n",
       "  <thead>\n",
       "    <tr style=\"text-align: right;\">\n",
       "      <th></th>\n",
       "      <th>Product</th>\n",
       "      <th>Rating</th>\n",
       "      <th>MRP</th>\n",
       "      <th>Feature</th>\n",
       "      <th>Brand</th>\n",
       "      <th>Operating System</th>\n",
       "      <th>Storage</th>\n",
       "      <th>Processor</th>\n",
       "      <th>RAM Size</th>\n",
       "      <th>RAM Type</th>\n",
       "    </tr>\n",
       "  </thead>\n",
       "  <tbody>\n",
       "    <tr>\n",
       "      <th>83</th>\n",
       "      <td>SAMSUNG Galaxy Book Go Snapdragon 7c Gen 2 - (...</td>\n",
       "      <td>4.4</td>\n",
       "      <td>32990</td>\n",
       "      <td>Qualcomm Snapdragon 7c Gen 2 Processor4 GB LPD...</td>\n",
       "      <td>SAMSUNG</td>\n",
       "      <td>Windows 11</td>\n",
       "      <td></td>\n",
       "      <td>Qualcomm</td>\n",
       "      <td>4GB</td>\n",
       "      <td>LPDDR4X</td>\n",
       "    </tr>\n",
       "    <tr>\n",
       "      <th>89</th>\n",
       "      <td>Lenovo IdeaPad 3 CB Celeron Dual Core - (4 GB/...</td>\n",
       "      <td>NaN</td>\n",
       "      <td>19490</td>\n",
       "      <td>Intel Celeron Dual Core Processor4 GB DDR4 RAM...</td>\n",
       "      <td>Lenovo</td>\n",
       "      <td>Chrome</td>\n",
       "      <td></td>\n",
       "      <td>Intel</td>\n",
       "      <td>4GB</td>\n",
       "      <td>DDR4</td>\n",
       "    </tr>\n",
       "    <tr>\n",
       "      <th>96</th>\n",
       "      <td>Lenovo IdeaPad 3 CB Celeron Dual Core - (4 GB/...</td>\n",
       "      <td>NaN</td>\n",
       "      <td>19490</td>\n",
       "      <td>Intel Celeron Dual Core Processor4 GB DDR4 RAM...</td>\n",
       "      <td>Lenovo</td>\n",
       "      <td>Chrome</td>\n",
       "      <td></td>\n",
       "      <td>Intel</td>\n",
       "      <td>4GB</td>\n",
       "      <td>DDR4</td>\n",
       "    </tr>\n",
       "    <tr>\n",
       "      <th>345</th>\n",
       "      <td>ASUS Chromebook Flip Touch Celeron Dual Core -...</td>\n",
       "      <td>4.0</td>\n",
       "      <td>14990</td>\n",
       "      <td>Intel Celeron Dual Core Processor4 GB LPDDR4 R...</td>\n",
       "      <td>ASUS</td>\n",
       "      <td>Chrome</td>\n",
       "      <td></td>\n",
       "      <td>Intel</td>\n",
       "      <td>4GB</td>\n",
       "      <td>LPDDR4</td>\n",
       "    </tr>\n",
       "    <tr>\n",
       "      <th>509</th>\n",
       "      <td>ASUS Chromebook Flip Touch Celeron Dual Core -...</td>\n",
       "      <td>4.0</td>\n",
       "      <td>24390</td>\n",
       "      <td>Intel Celeron Dual Core Processor4 GB LPDDR4 R...</td>\n",
       "      <td>ASUS</td>\n",
       "      <td>Chrome</td>\n",
       "      <td></td>\n",
       "      <td>Intel</td>\n",
       "      <td>4GB</td>\n",
       "      <td>LPDDR4</td>\n",
       "    </tr>\n",
       "    <tr>\n",
       "      <th>544</th>\n",
       "      <td>ASUS EeeBook 12 Celeron Dual Core - (4 GB/64 G...</td>\n",
       "      <td>4.5</td>\n",
       "      <td>21990</td>\n",
       "      <td>Intel Celeron Dual Core Processor4 GB DDR4 RAM...</td>\n",
       "      <td>ASUS</td>\n",
       "      <td>Windows 11</td>\n",
       "      <td></td>\n",
       "      <td>Intel</td>\n",
       "      <td>4GB</td>\n",
       "      <td>DDR4</td>\n",
       "    </tr>\n",
       "    <tr>\n",
       "      <th>559</th>\n",
       "      <td>ASUS EeeBook 12 Celeron Dual Core - (4 GB/64 G...</td>\n",
       "      <td>4.0</td>\n",
       "      <td>19990</td>\n",
       "      <td>Intel Celeron Dual Core Processor4 GB DDR4 RAM...</td>\n",
       "      <td>ASUS</td>\n",
       "      <td>Windows 11</td>\n",
       "      <td></td>\n",
       "      <td>Intel</td>\n",
       "      <td>4GB</td>\n",
       "      <td>DDR4</td>\n",
       "    </tr>\n",
       "    <tr>\n",
       "      <th>632</th>\n",
       "      <td>Lenovo IdeaPad Flex 3 Chromebook Celeron Dual ...</td>\n",
       "      <td>3.6</td>\n",
       "      <td>28490</td>\n",
       "      <td>Intel Celeron Dual Core Processor4 GB LPDDR4X ...</td>\n",
       "      <td>Lenovo</td>\n",
       "      <td>Chrome</td>\n",
       "      <td></td>\n",
       "      <td>Intel</td>\n",
       "      <td>4GB</td>\n",
       "      <td>LPDDR4X</td>\n",
       "    </tr>\n",
       "    <tr>\n",
       "      <th>695</th>\n",
       "      <td>ASUS Chromebook Celeron Dual Core - (4 GB/64 G...</td>\n",
       "      <td>4.1</td>\n",
       "      <td>25990</td>\n",
       "      <td>Intel Celeron Dual Core Processor4 GB LPDDR4 R...</td>\n",
       "      <td>ASUS</td>\n",
       "      <td>Chrome</td>\n",
       "      <td></td>\n",
       "      <td>Intel</td>\n",
       "      <td>4GB</td>\n",
       "      <td>LPDDR4</td>\n",
       "    </tr>\n",
       "    <tr>\n",
       "      <th>715</th>\n",
       "      <td>ASUS Chromebook Flip Touch Celeron Dual Core -...</td>\n",
       "      <td>4.0</td>\n",
       "      <td>23490</td>\n",
       "      <td>Intel Celeron Dual Core Processor4 GB LPDDR4 R...</td>\n",
       "      <td>ASUS</td>\n",
       "      <td>Chrome</td>\n",
       "      <td></td>\n",
       "      <td>Intel</td>\n",
       "      <td>4GB</td>\n",
       "      <td>LPDDR4</td>\n",
       "    </tr>\n",
       "  </tbody>\n",
       "</table>\n",
       "</div>"
      ],
      "text/plain": [
       "                                               Product  Rating    MRP  \\\n",
       "83   SAMSUNG Galaxy Book Go Snapdragon 7c Gen 2 - (...     4.4  32990   \n",
       "89   Lenovo IdeaPad 3 CB Celeron Dual Core - (4 GB/...     NaN  19490   \n",
       "96   Lenovo IdeaPad 3 CB Celeron Dual Core - (4 GB/...     NaN  19490   \n",
       "345  ASUS Chromebook Flip Touch Celeron Dual Core -...     4.0  14990   \n",
       "509  ASUS Chromebook Flip Touch Celeron Dual Core -...     4.0  24390   \n",
       "544  ASUS EeeBook 12 Celeron Dual Core - (4 GB/64 G...     4.5  21990   \n",
       "559  ASUS EeeBook 12 Celeron Dual Core - (4 GB/64 G...     4.0  19990   \n",
       "632  Lenovo IdeaPad Flex 3 Chromebook Celeron Dual ...     3.6  28490   \n",
       "695  ASUS Chromebook Celeron Dual Core - (4 GB/64 G...     4.1  25990   \n",
       "715  ASUS Chromebook Flip Touch Celeron Dual Core -...     4.0  23490   \n",
       "\n",
       "                                               Feature    Brand  \\\n",
       "83   Qualcomm Snapdragon 7c Gen 2 Processor4 GB LPD...  SAMSUNG   \n",
       "89   Intel Celeron Dual Core Processor4 GB DDR4 RAM...   Lenovo   \n",
       "96   Intel Celeron Dual Core Processor4 GB DDR4 RAM...   Lenovo   \n",
       "345  Intel Celeron Dual Core Processor4 GB LPDDR4 R...     ASUS   \n",
       "509  Intel Celeron Dual Core Processor4 GB LPDDR4 R...     ASUS   \n",
       "544  Intel Celeron Dual Core Processor4 GB DDR4 RAM...     ASUS   \n",
       "559  Intel Celeron Dual Core Processor4 GB DDR4 RAM...     ASUS   \n",
       "632  Intel Celeron Dual Core Processor4 GB LPDDR4X ...   Lenovo   \n",
       "695  Intel Celeron Dual Core Processor4 GB LPDDR4 R...     ASUS   \n",
       "715  Intel Celeron Dual Core Processor4 GB LPDDR4 R...     ASUS   \n",
       "\n",
       "    Operating System Storage Processor RAM Size RAM Type  \n",
       "83        Windows 11          Qualcomm      4GB  LPDDR4X  \n",
       "89            Chrome             Intel      4GB     DDR4  \n",
       "96            Chrome             Intel      4GB     DDR4  \n",
       "345           Chrome             Intel      4GB   LPDDR4  \n",
       "509           Chrome             Intel      4GB   LPDDR4  \n",
       "544       Windows 11             Intel      4GB     DDR4  \n",
       "559       Windows 11             Intel      4GB     DDR4  \n",
       "632           Chrome             Intel      4GB  LPDDR4X  \n",
       "695           Chrome             Intel      4GB   LPDDR4  \n",
       "715           Chrome             Intel      4GB   LPDDR4  "
      ]
     },
     "execution_count": 26,
     "metadata": {},
     "output_type": "execute_result"
    }
   ],
   "source": [
    "df[df['Storage']=='']"
   ]
  },
  {
   "cell_type": "code",
   "execution_count": 27,
   "id": "35e21ec0",
   "metadata": {},
   "outputs": [
    {
     "data": {
      "text/plain": [
       "10"
      ]
     },
     "execution_count": 27,
     "metadata": {},
     "output_type": "execute_result"
    }
   ],
   "source": [
    "len(df[df['Storage']==''])"
   ]
  },
  {
   "cell_type": "code",
   "execution_count": 28,
   "id": "14b96d2d",
   "metadata": {},
   "outputs": [],
   "source": [
    "df.iloc[83,6]='128GB EMMC'\n",
    "df.iloc[89,6]='64GB EMMC'\n",
    "df.iloc[96,6]='64GB EMMC'\n",
    "df.iloc[345,6]='32GB EMMC'\n",
    "df.iloc[509,6]='64GB EMMC'\n",
    "df.iloc[544,6]='64GB EMMC'\n",
    "df.iloc[559,6]='64GB EMMC'\n",
    "df.iloc[632,6]='128GB EMMC'\n",
    "df.iloc[695,6]='64GB EMMC'\n",
    "df.iloc[715,6]='64GB EMMC'"
   ]
  },
  {
   "cell_type": "code",
   "execution_count": 29,
   "id": "452d1e89",
   "metadata": {},
   "outputs": [
    {
     "data": {
      "text/plain": [
       "0"
      ]
     },
     "execution_count": 29,
     "metadata": {},
     "output_type": "execute_result"
    }
   ],
   "source": [
    "len(df[df['Storage']==''])"
   ]
  },
  {
   "cell_type": "code",
   "execution_count": 30,
   "id": "164b57c4",
   "metadata": {},
   "outputs": [],
   "source": [
    "df['Storage'].replace({'256 GB SSD':'256GB SSD'}, inplace=True)\n",
    "df['Storage'].replace({'512 GB SSD':'512GB SSD'}, inplace=True)\n",
    "df['Storage'].replace({'1 TB SSD':'1TB SSD'}, inplace=True)\n",
    "df['Storage'].replace({'1 TB HDD':'1TB HDD'}, inplace=True)\n",
    "df['Storage'].replace({'128 GB SSD':'128GB SSD'}, inplace=True)\n",
    "df['Storage'].replace({'2 TB SSD':'2TB SSD'}, inplace=True)\n",
    "df['Storage'].replace({'1 TB HDD256 GB SSD':'1TB HDD'}, inplace=True)\n",
    "df['Storage'].replace({'256 GB HDD256 GB SSD':'256GB HDD'}, inplace=True)\n",
    "df['Storage'].replace({'1 TB HDD512 GB SSD':'1TB HDD'}, inplace=True)\n",
    "df['Storage'].replace({'128 GB SSD1 TB HDD128 GB SSD':'1TB HDD'}, inplace=True)"
   ]
  },
  {
   "cell_type": "code",
   "execution_count": 31,
   "id": "03f85e43",
   "metadata": {},
   "outputs": [
    {
     "data": {
      "text/html": [
       "<div>\n",
       "<style scoped>\n",
       "    .dataframe tbody tr th:only-of-type {\n",
       "        vertical-align: middle;\n",
       "    }\n",
       "\n",
       "    .dataframe tbody tr th {\n",
       "        vertical-align: top;\n",
       "    }\n",
       "\n",
       "    .dataframe thead th {\n",
       "        text-align: right;\n",
       "    }\n",
       "</style>\n",
       "<table border=\"1\" class=\"dataframe\">\n",
       "  <thead>\n",
       "    <tr style=\"text-align: right;\">\n",
       "      <th></th>\n",
       "      <th>Product</th>\n",
       "      <th>Rating</th>\n",
       "      <th>MRP</th>\n",
       "      <th>Feature</th>\n",
       "      <th>Brand</th>\n",
       "      <th>Operating System</th>\n",
       "      <th>Processor</th>\n",
       "      <th>RAM Size</th>\n",
       "      <th>RAM Type</th>\n",
       "      <th>Disc Size</th>\n",
       "      <th>Disc Type</th>\n",
       "    </tr>\n",
       "  </thead>\n",
       "  <tbody>\n",
       "    <tr>\n",
       "      <th>0</th>\n",
       "      <td>Lenovo IdeaPad 3 Core i3 11th Gen - (8 GB/256 ...</td>\n",
       "      <td>4.2</td>\n",
       "      <td>36990</td>\n",
       "      <td>Intel Core i3 Processor (11th Gen)8 GB DDR4 RA...</td>\n",
       "      <td>Lenovo</td>\n",
       "      <td>Windows 11</td>\n",
       "      <td>Intel</td>\n",
       "      <td>8GB</td>\n",
       "      <td>DDR4</td>\n",
       "      <td>256GB</td>\n",
       "      <td>SSD</td>\n",
       "    </tr>\n",
       "    <tr>\n",
       "      <th>1</th>\n",
       "      <td>Lenovo IdeaPad 3 Core i3 11th Gen - (8 GB/512 ...</td>\n",
       "      <td>4.2</td>\n",
       "      <td>39990</td>\n",
       "      <td>Intel Core i3 Processor (11th Gen)8 GB DDR4 RA...</td>\n",
       "      <td>Lenovo</td>\n",
       "      <td>Windows 11</td>\n",
       "      <td>Intel</td>\n",
       "      <td>8GB</td>\n",
       "      <td>DDR4</td>\n",
       "      <td>512GB</td>\n",
       "      <td>SSD</td>\n",
       "    </tr>\n",
       "    <tr>\n",
       "      <th>2</th>\n",
       "      <td>ASUS VivoBook 15 (2022) Core i3 10th Gen - (8 ...</td>\n",
       "      <td>4.3</td>\n",
       "      <td>32990</td>\n",
       "      <td>Intel Core i3 Processor (10th Gen)8 GB DDR4 RA...</td>\n",
       "      <td>ASUS</td>\n",
       "      <td>Windows 11</td>\n",
       "      <td>Intel</td>\n",
       "      <td>8GB</td>\n",
       "      <td>DDR4</td>\n",
       "      <td>512GB</td>\n",
       "      <td>SSD</td>\n",
       "    </tr>\n",
       "    <tr>\n",
       "      <th>3</th>\n",
       "      <td>HP Pavilion Ryzen 5 Hexa Core AMD R5-5600H - (...</td>\n",
       "      <td>4.4</td>\n",
       "      <td>49990</td>\n",
       "      <td>AMD Ryzen 5 Hexa Core Processor8 GB DDR4 RAM64...</td>\n",
       "      <td>HP</td>\n",
       "      <td>Windows 10</td>\n",
       "      <td>AMD</td>\n",
       "      <td>8GB</td>\n",
       "      <td>DDR4</td>\n",
       "      <td>512GB</td>\n",
       "      <td>SSD</td>\n",
       "    </tr>\n",
       "    <tr>\n",
       "      <th>4</th>\n",
       "      <td>ASUS TUF Gaming F15 Core i5 10th Gen - (8 GB/5...</td>\n",
       "      <td>4.4</td>\n",
       "      <td>49990</td>\n",
       "      <td>Intel Core i5 Processor (10th Gen)8 GB DDR4 RA...</td>\n",
       "      <td>ASUS</td>\n",
       "      <td>Windows 11</td>\n",
       "      <td>Intel</td>\n",
       "      <td>8GB</td>\n",
       "      <td>DDR4</td>\n",
       "      <td>512GB</td>\n",
       "      <td>SSD</td>\n",
       "    </tr>\n",
       "  </tbody>\n",
       "</table>\n",
       "</div>"
      ],
      "text/plain": [
       "                                             Product  Rating    MRP  \\\n",
       "0  Lenovo IdeaPad 3 Core i3 11th Gen - (8 GB/256 ...     4.2  36990   \n",
       "1  Lenovo IdeaPad 3 Core i3 11th Gen - (8 GB/512 ...     4.2  39990   \n",
       "2  ASUS VivoBook 15 (2022) Core i3 10th Gen - (8 ...     4.3  32990   \n",
       "3  HP Pavilion Ryzen 5 Hexa Core AMD R5-5600H - (...     4.4  49990   \n",
       "4  ASUS TUF Gaming F15 Core i5 10th Gen - (8 GB/5...     4.4  49990   \n",
       "\n",
       "                                             Feature   Brand Operating System  \\\n",
       "0  Intel Core i3 Processor (11th Gen)8 GB DDR4 RA...  Lenovo       Windows 11   \n",
       "1  Intel Core i3 Processor (11th Gen)8 GB DDR4 RA...  Lenovo       Windows 11   \n",
       "2  Intel Core i3 Processor (10th Gen)8 GB DDR4 RA...    ASUS       Windows 11   \n",
       "3  AMD Ryzen 5 Hexa Core Processor8 GB DDR4 RAM64...      HP       Windows 10   \n",
       "4  Intel Core i5 Processor (10th Gen)8 GB DDR4 RA...    ASUS       Windows 11   \n",
       "\n",
       "  Processor RAM Size RAM Type Disc Size Disc Type  \n",
       "0     Intel      8GB     DDR4     256GB       SSD  \n",
       "1     Intel      8GB     DDR4     512GB       SSD  \n",
       "2     Intel      8GB     DDR4     512GB       SSD  \n",
       "3       AMD      8GB     DDR4     512GB       SSD  \n",
       "4     Intel      8GB     DDR4     512GB       SSD  "
      ]
     },
     "execution_count": 31,
     "metadata": {},
     "output_type": "execute_result"
    }
   ],
   "source": [
    "df[['Disc Size','Disc Type']]=df['Storage'].str.split(' ', expand=True)\n",
    "\n",
    "df.drop(['Storage'], axis=1, inplace=True)\n",
    "df.head()"
   ]
  },
  {
   "cell_type": "code",
   "execution_count": 32,
   "id": "3f9a56d2",
   "metadata": {},
   "outputs": [
    {
     "data": {
      "text/plain": [
       "0"
      ]
     },
     "execution_count": 32,
     "metadata": {},
     "output_type": "execute_result"
    }
   ],
   "source": [
    "df['Rating'].fillna(df['Rating'].median(), inplace=True)\n",
    "df.Rating.isna().sum()"
   ]
  },
  {
   "cell_type": "markdown",
   "id": "7be4f1f2",
   "metadata": {},
   "source": [
    "# cleaned Data "
   ]
  },
  {
   "cell_type": "code",
   "execution_count": 33,
   "id": "0806b7b1",
   "metadata": {},
   "outputs": [
    {
     "data": {
      "text/html": [
       "<div>\n",
       "<style scoped>\n",
       "    .dataframe tbody tr th:only-of-type {\n",
       "        vertical-align: middle;\n",
       "    }\n",
       "\n",
       "    .dataframe tbody tr th {\n",
       "        vertical-align: top;\n",
       "    }\n",
       "\n",
       "    .dataframe thead th {\n",
       "        text-align: right;\n",
       "    }\n",
       "</style>\n",
       "<table border=\"1\" class=\"dataframe\">\n",
       "  <thead>\n",
       "    <tr style=\"text-align: right;\">\n",
       "      <th></th>\n",
       "      <th>Product</th>\n",
       "      <th>Rating</th>\n",
       "      <th>MRP</th>\n",
       "      <th>Feature</th>\n",
       "      <th>Brand</th>\n",
       "      <th>Operating System</th>\n",
       "      <th>Processor</th>\n",
       "      <th>RAM Size</th>\n",
       "      <th>RAM Type</th>\n",
       "      <th>Disc Size</th>\n",
       "      <th>Disc Type</th>\n",
       "    </tr>\n",
       "  </thead>\n",
       "  <tbody>\n",
       "    <tr>\n",
       "      <th>0</th>\n",
       "      <td>Lenovo IdeaPad 3 Core i3 11th Gen - (8 GB/256 ...</td>\n",
       "      <td>4.2</td>\n",
       "      <td>36990</td>\n",
       "      <td>Intel Core i3 Processor (11th Gen)8 GB DDR4 RA...</td>\n",
       "      <td>Lenovo</td>\n",
       "      <td>Windows 11</td>\n",
       "      <td>Intel</td>\n",
       "      <td>8GB</td>\n",
       "      <td>DDR4</td>\n",
       "      <td>256GB</td>\n",
       "      <td>SSD</td>\n",
       "    </tr>\n",
       "    <tr>\n",
       "      <th>1</th>\n",
       "      <td>Lenovo IdeaPad 3 Core i3 11th Gen - (8 GB/512 ...</td>\n",
       "      <td>4.2</td>\n",
       "      <td>39990</td>\n",
       "      <td>Intel Core i3 Processor (11th Gen)8 GB DDR4 RA...</td>\n",
       "      <td>Lenovo</td>\n",
       "      <td>Windows 11</td>\n",
       "      <td>Intel</td>\n",
       "      <td>8GB</td>\n",
       "      <td>DDR4</td>\n",
       "      <td>512GB</td>\n",
       "      <td>SSD</td>\n",
       "    </tr>\n",
       "    <tr>\n",
       "      <th>2</th>\n",
       "      <td>ASUS VivoBook 15 (2022) Core i3 10th Gen - (8 ...</td>\n",
       "      <td>4.3</td>\n",
       "      <td>32990</td>\n",
       "      <td>Intel Core i3 Processor (10th Gen)8 GB DDR4 RA...</td>\n",
       "      <td>ASUS</td>\n",
       "      <td>Windows 11</td>\n",
       "      <td>Intel</td>\n",
       "      <td>8GB</td>\n",
       "      <td>DDR4</td>\n",
       "      <td>512GB</td>\n",
       "      <td>SSD</td>\n",
       "    </tr>\n",
       "    <tr>\n",
       "      <th>3</th>\n",
       "      <td>HP Pavilion Ryzen 5 Hexa Core AMD R5-5600H - (...</td>\n",
       "      <td>4.4</td>\n",
       "      <td>49990</td>\n",
       "      <td>AMD Ryzen 5 Hexa Core Processor8 GB DDR4 RAM64...</td>\n",
       "      <td>HP</td>\n",
       "      <td>Windows 10</td>\n",
       "      <td>AMD</td>\n",
       "      <td>8GB</td>\n",
       "      <td>DDR4</td>\n",
       "      <td>512GB</td>\n",
       "      <td>SSD</td>\n",
       "    </tr>\n",
       "    <tr>\n",
       "      <th>4</th>\n",
       "      <td>ASUS TUF Gaming F15 Core i5 10th Gen - (8 GB/5...</td>\n",
       "      <td>4.4</td>\n",
       "      <td>49990</td>\n",
       "      <td>Intel Core i5 Processor (10th Gen)8 GB DDR4 RA...</td>\n",
       "      <td>ASUS</td>\n",
       "      <td>Windows 11</td>\n",
       "      <td>Intel</td>\n",
       "      <td>8GB</td>\n",
       "      <td>DDR4</td>\n",
       "      <td>512GB</td>\n",
       "      <td>SSD</td>\n",
       "    </tr>\n",
       "  </tbody>\n",
       "</table>\n",
       "</div>"
      ],
      "text/plain": [
       "                                             Product  Rating    MRP  \\\n",
       "0  Lenovo IdeaPad 3 Core i3 11th Gen - (8 GB/256 ...     4.2  36990   \n",
       "1  Lenovo IdeaPad 3 Core i3 11th Gen - (8 GB/512 ...     4.2  39990   \n",
       "2  ASUS VivoBook 15 (2022) Core i3 10th Gen - (8 ...     4.3  32990   \n",
       "3  HP Pavilion Ryzen 5 Hexa Core AMD R5-5600H - (...     4.4  49990   \n",
       "4  ASUS TUF Gaming F15 Core i5 10th Gen - (8 GB/5...     4.4  49990   \n",
       "\n",
       "                                             Feature   Brand Operating System  \\\n",
       "0  Intel Core i3 Processor (11th Gen)8 GB DDR4 RA...  Lenovo       Windows 11   \n",
       "1  Intel Core i3 Processor (11th Gen)8 GB DDR4 RA...  Lenovo       Windows 11   \n",
       "2  Intel Core i3 Processor (10th Gen)8 GB DDR4 RA...    ASUS       Windows 11   \n",
       "3  AMD Ryzen 5 Hexa Core Processor8 GB DDR4 RAM64...      HP       Windows 10   \n",
       "4  Intel Core i5 Processor (10th Gen)8 GB DDR4 RA...    ASUS       Windows 11   \n",
       "\n",
       "  Processor RAM Size RAM Type Disc Size Disc Type  \n",
       "0     Intel      8GB     DDR4     256GB       SSD  \n",
       "1     Intel      8GB     DDR4     512GB       SSD  \n",
       "2     Intel      8GB     DDR4     512GB       SSD  \n",
       "3       AMD      8GB     DDR4     512GB       SSD  \n",
       "4     Intel      8GB     DDR4     512GB       SSD  "
      ]
     },
     "execution_count": 33,
     "metadata": {},
     "output_type": "execute_result"
    }
   ],
   "source": [
    "df.head()"
   ]
  },
  {
   "cell_type": "markdown",
   "id": "82b472bd",
   "metadata": {},
   "source": [
    "# Exploratory Data Analysis"
   ]
  },
  {
   "cell_type": "markdown",
   "id": "8ad4451a",
   "metadata": {},
   "source": [
    "### Analysis of MRP column"
   ]
  },
  {
   "cell_type": "code",
   "execution_count": 34,
   "id": "85a831a8",
   "metadata": {},
   "outputs": [
    {
     "name": "stdout",
     "output_type": "stream",
     "text": [
      "Maximum 434830\n",
      "Minimum 14990\n",
      "Mean 81605.8375\n",
      "Median 59990.0\n",
      "Standard Deviation 61552.95510244973\n"
     ]
    }
   ],
   "source": [
    "print(\"Maximum\", df['MRP'].max())\n",
    "print(\"Minimum\", df['MRP'].min())\n",
    "print(\"Mean\", df['MRP'].mean())\n",
    "print(\"Median\", df['MRP'].median())\n",
    "print(\"Standard Deviation\", df['MRP'].std())"
   ]
  },
  {
   "cell_type": "markdown",
   "id": "58600b15",
   "metadata": {},
   "source": [
    "## Outlier Detection"
   ]
  },
  {
   "cell_type": "code",
   "execution_count": 35,
   "id": "464b15be",
   "metadata": {},
   "outputs": [
    {
     "data": {
      "text/plain": [
       "<AxesSubplot:ylabel='Frequency'>"
      ]
     },
     "execution_count": 35,
     "metadata": {},
     "output_type": "execute_result"
    },
    {
     "data": {
      "image/png": "[encoded data removed]",
      "text/plain": [
       "<Figure size 1296x360 with 1 Axes>"
      ]
     },
     "metadata": {
      "needs_background": "light"
     },
     "output_type": "display_data"
    }
   ],
   "source": [
    "df['MRP'].plot(kind='hist', figsize=(18,5))"
   ]
  },
  {
   "cell_type": "code",
   "execution_count": 36,
   "id": "95940cd4",
   "metadata": {},
   "outputs": [
    {
     "data": {
      "text/plain": [
       "<AxesSubplot:>"
      ]
     },
     "execution_count": 36,
     "metadata": {},
     "output_type": "execute_result"
    },
    {
     "data": {
      "image/png": "[encoded data removed]",
      "text/plain": [
       "<Figure size 1296x360 with 1 Axes>"
      ]
     },
     "metadata": {
      "needs_background": "light"
     },
     "output_type": "display_data"
    }
   ],
   "source": [
    "df['MRP'].plot(kind='box', figsize=(18,5))"
   ]
  },
  {
   "cell_type": "code",
   "execution_count": 37,
   "id": "b3da4e03",
   "metadata": {},
   "outputs": [],
   "source": [
    "import seaborn as sns\n",
    "import matplotlib.pyplot as plt"
   ]
  },
  {
   "cell_type": "markdown",
   "id": "fdd207eb",
   "metadata": {},
   "source": [
    "# Relationship of Brand and MRP"
   ]
  },
  {
   "cell_type": "code",
   "execution_count": 38,
   "id": "0e48f756",
   "metadata": {},
   "outputs": [
    {
     "data": {
      "image/png": "[encoded data removed]",
      "text/plain": [
       "<Figure size 1080x360 with 1 Axes>"
      ]
     },
     "metadata": {
      "needs_background": "light"
     },
     "output_type": "display_data"
    }
   ],
   "source": [
    "plt.figure(figsize=(15, 5))\n",
    "sns.boxplot(x='Brand', y ='MRP', data=df);"
   ]
  },
  {
   "cell_type": "markdown",
   "id": "bfca8604",
   "metadata": {},
   "source": [
    "### ALIENWARE laptops are ranges approximetely from 2 Lakh to 3.5 Lakh, these are costiest laptops"
   ]
  },
  {
   "cell_type": "markdown",
   "id": "c6c0b579",
   "metadata": {},
   "source": [
    "# Relation between Processor Type and MRP"
   ]
  },
  {
   "cell_type": "code",
   "execution_count": 39,
   "id": "d42d5ae7",
   "metadata": {},
   "outputs": [
    {
     "data": {
      "text/plain": [
       "<AxesSubplot:xlabel='Processor', ylabel='MRP'>"
      ]
     },
     "execution_count": 39,
     "metadata": {},
     "output_type": "execute_result"
    },
    {
     "data": {
      "image/png": "[encoded data removed]",
      "text/plain": [
       "<Figure size 1080x576 with 1 Axes>"
      ]
     },
     "metadata": {
      "needs_background": "light"
     },
     "output_type": "display_data"
    }
   ],
   "source": [
    "plt.figure(figsize=(15, 8))\n",
    "sns.boxplot(x='Processor', y ='MRP', data=df)"
   ]
  },
  {
   "cell_type": "markdown",
   "id": "555101c4",
   "metadata": {},
   "source": [
    "# Relation between Operating system and MRP"
   ]
  },
  {
   "cell_type": "code",
   "execution_count": 40,
   "id": "001c93e9",
   "metadata": {},
   "outputs": [
    {
     "data": {
      "image/png": "[encoded data removed]",
      "text/plain": [
       "<Figure size 1080x576 with 1 Axes>"
      ]
     },
     "metadata": {
      "needs_background": "light"
     },
     "output_type": "display_data"
    }
   ],
   "source": [
    "plt.figure(figsize=(15, 8))\n",
    "sns.boxplot(x='Operating System', y ='MRP', data=df);"
   ]
  },
  {
   "cell_type": "markdown",
   "id": "89bdb8e1",
   "metadata": {},
   "source": [
    "### windows 11 mac have higher prices"
   ]
  },
  {
   "cell_type": "markdown",
   "id": "d5c4955b",
   "metadata": {},
   "source": [
    "# Relation between RAM type and MRP"
   ]
  },
  {
   "cell_type": "code",
   "execution_count": 41,
   "id": "c19cdd77",
   "metadata": {},
   "outputs": [
    {
     "data": {
      "image/png": "[encoded data removed]",
      "text/plain": [
       "<Figure size 1080x360 with 1 Axes>"
      ]
     },
     "metadata": {
      "needs_background": "light"
     },
     "output_type": "display_data"
    }
   ],
   "source": [
    "plt.figure(figsize=(15, 5))\n",
    "sns.boxplot(x='RAM Type', y ='MRP', data=df);"
   ]
  },
  {
   "cell_type": "markdown",
   "id": "ef8c6a2b",
   "metadata": {},
   "source": [
    "# Relation between Disc type and MRP"
   ]
  },
  {
   "cell_type": "code",
   "execution_count": 43,
   "id": "ff0518c8",
   "metadata": {},
   "outputs": [
    {
     "data": {
      "image/png": "[encoded data removed]",
      "text/plain": [
       "<Figure size 1080x360 with 1 Axes>"
      ]
     },
     "metadata": {
      "needs_background": "light"
     },
     "output_type": "display_data"
    }
   ],
   "source": [
    "plt.figure(figsize=(15, 5))\n",
    "sns.boxplot(x='Disc Type', y ='MRP', data=df);"
   ]
  },
  {
   "cell_type": "markdown",
   "id": "5c8acbaa",
   "metadata": {},
   "source": [
    "# machine learning Data"
   ]
  },
  {
   "cell_type": "code",
   "execution_count": 44,
   "id": "7c59dbfa",
   "metadata": {},
   "outputs": [
    {
     "data": {
      "text/html": [
       "<div>\n",
       "<style scoped>\n",
       "    .dataframe tbody tr th:only-of-type {\n",
       "        vertical-align: middle;\n",
       "    }\n",
       "\n",
       "    .dataframe tbody tr th {\n",
       "        vertical-align: top;\n",
       "    }\n",
       "\n",
       "    .dataframe thead th {\n",
       "        text-align: right;\n",
       "    }\n",
       "</style>\n",
       "<table border=\"1\" class=\"dataframe\">\n",
       "  <thead>\n",
       "    <tr style=\"text-align: right;\">\n",
       "      <th></th>\n",
       "      <th>Brand</th>\n",
       "      <th>Processor</th>\n",
       "      <th>Operating System</th>\n",
       "      <th>RAM Type</th>\n",
       "      <th>RAM Size</th>\n",
       "      <th>Disc Type</th>\n",
       "      <th>Disc Size</th>\n",
       "      <th>MRP</th>\n",
       "    </tr>\n",
       "  </thead>\n",
       "  <tbody>\n",
       "    <tr>\n",
       "      <th>0</th>\n",
       "      <td>Lenovo</td>\n",
       "      <td>Intel</td>\n",
       "      <td>Windows 11</td>\n",
       "      <td>DDR4</td>\n",
       "      <td>8GB</td>\n",
       "      <td>SSD</td>\n",
       "      <td>256GB</td>\n",
       "      <td>36990</td>\n",
       "    </tr>\n",
       "    <tr>\n",
       "      <th>1</th>\n",
       "      <td>Lenovo</td>\n",
       "      <td>Intel</td>\n",
       "      <td>Windows 11</td>\n",
       "      <td>DDR4</td>\n",
       "      <td>8GB</td>\n",
       "      <td>SSD</td>\n",
       "      <td>512GB</td>\n",
       "      <td>39990</td>\n",
       "    </tr>\n",
       "    <tr>\n",
       "      <th>2</th>\n",
       "      <td>ASUS</td>\n",
       "      <td>Intel</td>\n",
       "      <td>Windows 11</td>\n",
       "      <td>DDR4</td>\n",
       "      <td>8GB</td>\n",
       "      <td>SSD</td>\n",
       "      <td>512GB</td>\n",
       "      <td>32990</td>\n",
       "    </tr>\n",
       "    <tr>\n",
       "      <th>3</th>\n",
       "      <td>HP</td>\n",
       "      <td>AMD</td>\n",
       "      <td>Windows 10</td>\n",
       "      <td>DDR4</td>\n",
       "      <td>8GB</td>\n",
       "      <td>SSD</td>\n",
       "      <td>512GB</td>\n",
       "      <td>49990</td>\n",
       "    </tr>\n",
       "    <tr>\n",
       "      <th>4</th>\n",
       "      <td>ASUS</td>\n",
       "      <td>Intel</td>\n",
       "      <td>Windows 11</td>\n",
       "      <td>DDR4</td>\n",
       "      <td>8GB</td>\n",
       "      <td>SSD</td>\n",
       "      <td>512GB</td>\n",
       "      <td>49990</td>\n",
       "    </tr>\n",
       "  </tbody>\n",
       "</table>\n",
       "</div>"
      ],
      "text/plain": [
       "    Brand Processor Operating System RAM Type RAM Size Disc Type Disc Size  \\\n",
       "0  Lenovo     Intel       Windows 11     DDR4      8GB       SSD     256GB   \n",
       "1  Lenovo     Intel       Windows 11     DDR4      8GB       SSD     512GB   \n",
       "2    ASUS     Intel       Windows 11     DDR4      8GB       SSD     512GB   \n",
       "3      HP       AMD       Windows 10     DDR4      8GB       SSD     512GB   \n",
       "4    ASUS     Intel       Windows 11     DDR4      8GB       SSD     512GB   \n",
       "\n",
       "     MRP  \n",
       "0  36990  \n",
       "1  39990  \n",
       "2  32990  \n",
       "3  49990  \n",
       "4  49990  "
      ]
     },
     "execution_count": 44,
     "metadata": {},
     "output_type": "execute_result"
    }
   ],
   "source": [
    "data=df[['Brand','Processor','Operating System','RAM Type','RAM Size','Disc Type','Disc Size','MRP']]\n",
    "data.to_csv('laptop_price.csv', index=False)\n",
    "data.head()"
   ]
  },
  {
   "cell_type": "markdown",
   "id": "153b4aad",
   "metadata": {},
   "source": [
    "# Summay of Analysis "
   ]
  },
  {
   "cell_type": "markdown",
   "id": "b98483de",
   "metadata": {},
   "source": [
    "### ALIENWARE is ranges approximetely from 2 Lakh to 3.5 Lakh,which is high price compared to remaining laptops.\n",
    "### Average price for ALIENWARE, APPLE, ASUS,MSI laptops brand is high.\n",
    "### Average price is high for Mac Operating System laptops.\n",
    "### LPDDR3 RAM type laptops has highest average price.\n",
    "### SSD Disc type laptops has highest average price.\n",
    "### Higher the RAM size higher the Price of laptop.\n",
    "### Higher the Disc size higher the Price of laptop.\n",
    "### 2TB Disc size laptops have high price."
   ]
  },
  {
   "cell_type": "code",
   "execution_count": null,
   "id": "d295d2be",
   "metadata": {},
   "outputs": [],
   "source": []
  }
 ],
 "metadata": {
  "kernelspec": {
   "display_name": "Python 3 (ipykernel)",
   "language": "python",
   "name": "python3"
  },
  "language_info": {
   "codemirror_mode": {
    "name": "ipython",
    "version": 3
   },
   "file_extension": ".py",
   "mimetype": "text/x-python",
   "name": "python",
   "nbconvert_exporter": "python",
   "pygments_lexer": "ipython3",
   "version": "3.9.12"
  }
 },
 "nbformat": 4,
 "nbformat_minor": 5
}
