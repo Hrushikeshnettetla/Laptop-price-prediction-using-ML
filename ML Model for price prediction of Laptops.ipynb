{
 "cells": [
  {
   "cell_type": "code",
   "execution_count": 1,
   "id": "b765f679",
   "metadata": {},
   "outputs": [],
   "source": [
    "import pandas as pd\n",
    "import numpy as np"
   ]
  },
  {
   "cell_type": "code",
   "execution_count": 2,
   "id": "7b91bfc7",
   "metadata": {},
   "outputs": [],
   "source": [
    "import warnings\n",
    "warnings.filterwarnings('ignore')"
   ]
  },
  {
   "cell_type": "code",
   "execution_count": 3,
   "id": "dbb43c1a",
   "metadata": {},
   "outputs": [
    {
     "data": {
      "text/html": [
       "<div>\n",
       "<style scoped>\n",
       "    .dataframe tbody tr th:only-of-type {\n",
       "        vertical-align: middle;\n",
       "    }\n",
       "\n",
       "    .dataframe tbody tr th {\n",
       "        vertical-align: top;\n",
       "    }\n",
       "\n",
       "    .dataframe thead th {\n",
       "        text-align: right;\n",
       "    }\n",
       "</style>\n",
       "<table border=\"1\" class=\"dataframe\">\n",
       "  <thead>\n",
       "    <tr style=\"text-align: right;\">\n",
       "      <th></th>\n",
       "      <th>Brand</th>\n",
       "      <th>Processor</th>\n",
       "      <th>Operating System</th>\n",
       "      <th>RAM Type</th>\n",
       "      <th>RAM Size</th>\n",
       "      <th>Disc Type</th>\n",
       "      <th>Disc Size</th>\n",
       "      <th>MRP</th>\n",
       "    </tr>\n",
       "  </thead>\n",
       "  <tbody>\n",
       "    <tr>\n",
       "      <th>0</th>\n",
       "      <td>Lenovo</td>\n",
       "      <td>Intel</td>\n",
       "      <td>Windows 11</td>\n",
       "      <td>DDR4</td>\n",
       "      <td>8GB</td>\n",
       "      <td>SSD</td>\n",
       "      <td>256GB</td>\n",
       "      <td>36990</td>\n",
       "    </tr>\n",
       "    <tr>\n",
       "      <th>1</th>\n",
       "      <td>Lenovo</td>\n",
       "      <td>Intel</td>\n",
       "      <td>Windows 11</td>\n",
       "      <td>DDR4</td>\n",
       "      <td>8GB</td>\n",
       "      <td>SSD</td>\n",
       "      <td>512GB</td>\n",
       "      <td>39990</td>\n",
       "    </tr>\n",
       "    <tr>\n",
       "      <th>2</th>\n",
       "      <td>ASUS</td>\n",
       "      <td>Intel</td>\n",
       "      <td>Windows 11</td>\n",
       "      <td>DDR4</td>\n",
       "      <td>8GB</td>\n",
       "      <td>SSD</td>\n",
       "      <td>512GB</td>\n",
       "      <td>32990</td>\n",
       "    </tr>\n",
       "    <tr>\n",
       "      <th>3</th>\n",
       "      <td>HP</td>\n",
       "      <td>AMD</td>\n",
       "      <td>Windows 10</td>\n",
       "      <td>DDR4</td>\n",
       "      <td>8GB</td>\n",
       "      <td>SSD</td>\n",
       "      <td>512GB</td>\n",
       "      <td>49990</td>\n",
       "    </tr>\n",
       "    <tr>\n",
       "      <th>4</th>\n",
       "      <td>ASUS</td>\n",
       "      <td>Intel</td>\n",
       "      <td>Windows 11</td>\n",
       "      <td>DDR4</td>\n",
       "      <td>8GB</td>\n",
       "      <td>SSD</td>\n",
       "      <td>512GB</td>\n",
       "      <td>49990</td>\n",
       "    </tr>\n",
       "  </tbody>\n",
       "</table>\n",
       "</div>"
      ],
      "text/plain": [
       "    Brand Processor Operating System RAM Type RAM Size Disc Type Disc Size  \\\n",
       "0  Lenovo     Intel       Windows 11     DDR4      8GB       SSD     256GB   \n",
       "1  Lenovo     Intel       Windows 11     DDR4      8GB       SSD     512GB   \n",
       "2    ASUS     Intel       Windows 11     DDR4      8GB       SSD     512GB   \n",
       "3      HP       AMD       Windows 10     DDR4      8GB       SSD     512GB   \n",
       "4    ASUS     Intel       Windows 11     DDR4      8GB       SSD     512GB   \n",
       "\n",
       "     MRP  \n",
       "0  36990  \n",
       "1  39990  \n",
       "2  32990  \n",
       "3  49990  \n",
       "4  49990  "
      ]
     },
     "execution_count": 3,
     "metadata": {},
     "output_type": "execute_result"
    }
   ],
   "source": [
    "df=pd.read_csv('C:/Users/hrush/laptop_price.csv')\n",
    "df.head()"
   ]
  },
  {
   "cell_type": "code",
   "execution_count": 4,
   "id": "f09c0c84",
   "metadata": {},
   "outputs": [],
   "source": [
    "data=df.copy()"
   ]
  },
  {
   "cell_type": "code",
   "execution_count": 5,
   "id": "b8e546b9",
   "metadata": {},
   "outputs": [
    {
     "name": "stdout",
     "output_type": "stream",
     "text": [
      "<class 'pandas.core.frame.DataFrame'>\n",
      "RangeIndex: 720 entries, 0 to 719\n",
      "Data columns (total 8 columns):\n",
      " #   Column            Non-Null Count  Dtype \n",
      "---  ------            --------------  ----- \n",
      " 0   Brand             720 non-null    object\n",
      " 1   Processor         720 non-null    object\n",
      " 2   Operating System  720 non-null    object\n",
      " 3   RAM Type          720 non-null    object\n",
      " 4   RAM Size          720 non-null    object\n",
      " 5   Disc Type         720 non-null    object\n",
      " 6   Disc Size         720 non-null    object\n",
      " 7   MRP               720 non-null    int64 \n",
      "dtypes: int64(1), object(7)\n",
      "memory usage: 45.1+ KB\n"
     ]
    }
   ],
   "source": [
    "data.info()"
   ]
  },
  {
   "cell_type": "code",
   "execution_count": 6,
   "id": "0fafa66a",
   "metadata": {},
   "outputs": [
    {
     "data": {
      "text/plain": [
       "(720, 8)"
      ]
     },
     "execution_count": 6,
     "metadata": {},
     "output_type": "execute_result"
    }
   ],
   "source": [
    "data.shape"
   ]
  },
  {
   "cell_type": "markdown",
   "id": "4d56af79",
   "metadata": {},
   "source": [
    "## Convert categorical columns to numeric column"
   ]
  },
  {
   "cell_type": "markdown",
   "id": "d716b1a8",
   "metadata": {},
   "source": [
    "### 1.Brand"
   ]
  },
  {
   "cell_type": "code",
   "execution_count": 7,
   "id": "ead301ed",
   "metadata": {},
   "outputs": [
    {
     "data": {
      "text/plain": [
       "array(['Lenovo', 'ASUS', 'HP', 'DELL', 'RedmiBook', 'realme', 'acer',\n",
       "       'MSI', 'APPLE', 'Infinix', 'SAMSUNG', 'Ultimus', 'Vaio',\n",
       "       'GIGABYTE', 'Nokia', 'ALIENWARE'], dtype=object)"
      ]
     },
     "execution_count": 7,
     "metadata": {},
     "output_type": "execute_result"
    }
   ],
   "source": [
    "data['Brand'].unique()"
   ]
  },
  {
   "cell_type": "code",
   "execution_count": 8,
   "id": "e7798cff",
   "metadata": {},
   "outputs": [
    {
     "data": {
      "text/plain": [
       "array([ 1,  2,  3,  4,  5,  6,  7,  8,  9, 10, 11, 12, 13, 14, 15, 16],\n",
       "      dtype=int64)"
      ]
     },
     "execution_count": 8,
     "metadata": {},
     "output_type": "execute_result"
    }
   ],
   "source": [
    "def replace_brand(brand):\n",
    "    if brand=='Lenovo':\n",
    "        return 1\n",
    "    elif brand=='ASUS':\n",
    "        return 2\n",
    "    elif brand=='HP':\n",
    "        return 3\n",
    "    elif brand=='DELL':\n",
    "        return 4\n",
    "    elif brand=='RedmiBook':\n",
    "        return 5\n",
    "    elif brand=='realme':\n",
    "        return 6\n",
    "    elif brand=='acer':\n",
    "        return 7\n",
    "    elif brand=='MSI':\n",
    "        return 8\n",
    "    elif brand=='APPLE':\n",
    "        return 9\n",
    "    elif brand=='Infinix':\n",
    "        return 10\n",
    "    elif brand=='SAMSUNG':\n",
    "        return 11\n",
    "    elif brand=='Ultimus':\n",
    "        return 12\n",
    "    elif brand=='Vaio':\n",
    "        return 13\n",
    "    elif brand=='GIGABYTE':\n",
    "        return 14\n",
    "    elif brand=='Nokia':\n",
    "        return 15\n",
    "    elif brand=='ALIENWARE':\n",
    "        return 16\n",
    "    \n",
    "data['Brand']=data['Brand'].apply(replace_brand)\n",
    "data['Brand'].unique()"
   ]
  },
  {
   "cell_type": "markdown",
   "id": "7fa2e7fc",
   "metadata": {},
   "source": [
    "### 2.Processor Type"
   ]
  },
  {
   "cell_type": "code",
   "execution_count": 9,
   "id": "e0c469b8",
   "metadata": {},
   "outputs": [
    {
     "data": {
      "text/plain": [
       "array(['Intel', 'AMD', 'Apple', 'Qualcomm'], dtype=object)"
      ]
     },
     "execution_count": 9,
     "metadata": {},
     "output_type": "execute_result"
    }
   ],
   "source": [
    "data['Processor'].unique()"
   ]
  },
  {
   "cell_type": "code",
   "execution_count": 10,
   "id": "61d207c5",
   "metadata": {},
   "outputs": [
    {
     "data": {
      "text/plain": [
       "4"
      ]
     },
     "execution_count": 10,
     "metadata": {},
     "output_type": "execute_result"
    }
   ],
   "source": [
    "data['Processor'].nunique()"
   ]
  },
  {
   "cell_type": "code",
   "execution_count": 11,
   "id": "72054c7e",
   "metadata": {},
   "outputs": [
    {
     "data": {
      "text/plain": [
       "array([1, 2, 3, 4], dtype=int64)"
      ]
     },
     "execution_count": 11,
     "metadata": {},
     "output_type": "execute_result"
    }
   ],
   "source": [
    "def replace_processor(Processor):\n",
    "    if Processor=='Intel':\n",
    "        return 1\n",
    "    elif Processor=='AMD':\n",
    "        return 2\n",
    "    elif Processor=='Apple':\n",
    "        return 3\n",
    "    elif Processor=='Qualcomm':\n",
    "        return 4\n",
    "    \n",
    "data['Processor']=data['Processor'].apply(replace_processor)\n",
    "data['Processor'].unique()"
   ]
  },
  {
   "cell_type": "markdown",
   "id": "e4b3f03f",
   "metadata": {},
   "source": [
    "### 3.Ram Type"
   ]
  },
  {
   "cell_type": "code",
   "execution_count": 12,
   "id": "612e4eaa",
   "metadata": {},
   "outputs": [
    {
     "data": {
      "text/plain": [
       "array(['DDR4', 'DDR5', 'LPDDR4', 'Unified', 'LPDDR4X', 'LPDDR5', 'LPDDR3'],\n",
       "      dtype=object)"
      ]
     },
     "execution_count": 12,
     "metadata": {},
     "output_type": "execute_result"
    }
   ],
   "source": [
    "data['RAM Type'].unique()"
   ]
  },
  {
   "cell_type": "code",
   "execution_count": 13,
   "id": "dbf06fbd",
   "metadata": {},
   "outputs": [
    {
     "data": {
      "text/plain": [
       "array([1, 2, 3, 4, 5, 6, 7], dtype=int64)"
      ]
     },
     "execution_count": 13,
     "metadata": {},
     "output_type": "execute_result"
    }
   ],
   "source": [
    "def replace_ram_type(ram_type):\n",
    "    if ram_type=='DDR4':\n",
    "        return 1\n",
    "    elif ram_type=='DDR5':\n",
    "        return 2\n",
    "    elif ram_type=='LPDDR4':\n",
    "        return 3\n",
    "    elif ram_type=='Unified':\n",
    "        return 4\n",
    "    elif ram_type=='LPDDR4X':\n",
    "        return 5\n",
    "    elif ram_type=='LPDDR5':\n",
    "        return 6\n",
    "    elif ram_type=='LPDDR3':\n",
    "        return 7\n",
    "    \n",
    "data['RAM Type']=data['RAM Type'].apply(replace_ram_type)\n",
    "data['RAM Type'].unique()"
   ]
  },
  {
   "cell_type": "markdown",
   "id": "6489bc3d",
   "metadata": {},
   "source": [
    "### 4.Ram Size"
   ]
  },
  {
   "cell_type": "code",
   "execution_count": 14,
   "id": "f887c7a5",
   "metadata": {},
   "outputs": [
    {
     "data": {
      "text/plain": [
       "array(['8GB', '16GB', '4GB', '32GB'], dtype=object)"
      ]
     },
     "execution_count": 14,
     "metadata": {},
     "output_type": "execute_result"
    }
   ],
   "source": [
    "data['RAM Size'].unique()"
   ]
  },
  {
   "cell_type": "code",
   "execution_count": 15,
   "id": "b1766ab1",
   "metadata": {},
   "outputs": [
    {
     "data": {
      "text/plain": [
       "array([1, 2, 3, 4], dtype=int64)"
      ]
     },
     "execution_count": 15,
     "metadata": {},
     "output_type": "execute_result"
    }
   ],
   "source": [
    "def replace_ram_size(ram_size):\n",
    "    if ram_size=='8GB':\n",
    "        return 1\n",
    "    elif ram_size=='16GB':\n",
    "        return 2\n",
    "    elif ram_size=='4GB':\n",
    "        return 3\n",
    "    elif ram_size=='32GB':\n",
    "        return 4\n",
    "\n",
    "    \n",
    "data['RAM Size']=data['RAM Size'].apply(replace_ram_size)\n",
    "data['RAM Size'].unique()"
   ]
  },
  {
   "cell_type": "markdown",
   "id": "8f9127b4",
   "metadata": {},
   "source": [
    "### 5.Disc Type"
   ]
  },
  {
   "cell_type": "code",
   "execution_count": 16,
   "id": "577667ac",
   "metadata": {},
   "outputs": [
    {
     "data": {
      "text/plain": [
       "array(['SSD', 'HDD', 'EMMC'], dtype=object)"
      ]
     },
     "execution_count": 16,
     "metadata": {},
     "output_type": "execute_result"
    }
   ],
   "source": [
    "data['Disc Type'].unique()"
   ]
  },
  {
   "cell_type": "code",
   "execution_count": 17,
   "id": "6bbc6c01",
   "metadata": {},
   "outputs": [
    {
     "data": {
      "text/plain": [
       "array([1, 2, 3], dtype=int64)"
      ]
     },
     "execution_count": 17,
     "metadata": {},
     "output_type": "execute_result"
    }
   ],
   "source": [
    "def replace_disc_type(disc_type):\n",
    "    if disc_type=='SSD':\n",
    "        return 1\n",
    "    elif disc_type=='HDD':\n",
    "        return 2\n",
    "    elif disc_type=='EMMC':\n",
    "        return 3\n",
    "\n",
    "    \n",
    "data['Disc Type']=data['Disc Type'].apply(replace_disc_type)\n",
    "data['Disc Type'].unique()"
   ]
  },
  {
   "cell_type": "markdown",
   "id": "3db6edf3",
   "metadata": {},
   "source": [
    "### 6.Disc Size"
   ]
  },
  {
   "cell_type": "code",
   "execution_count": 18,
   "id": "724602db",
   "metadata": {},
   "outputs": [
    {
     "data": {
      "text/plain": [
       "array(['256GB', '512GB', '1TB', '128GB', '64GB', '32GB', '2TB'],\n",
       "      dtype=object)"
      ]
     },
     "execution_count": 18,
     "metadata": {},
     "output_type": "execute_result"
    }
   ],
   "source": [
    "data['Disc Size'].unique()"
   ]
  },
  {
   "cell_type": "code",
   "execution_count": 19,
   "id": "7ac608f1",
   "metadata": {},
   "outputs": [
    {
     "data": {
      "text/plain": [
       "array([1, 2, 3, 4, 5, 6, 7], dtype=int64)"
      ]
     },
     "execution_count": 19,
     "metadata": {},
     "output_type": "execute_result"
    }
   ],
   "source": [
    "def replace_disc_size(disc_size):\n",
    "    if disc_size=='256GB':\n",
    "        return 1\n",
    "    elif disc_size=='512GB':\n",
    "        return 2\n",
    "    elif disc_size=='1TB':\n",
    "        return 3\n",
    "    elif disc_size=='128GB':\n",
    "        return 4\n",
    "    elif disc_size=='64GB':\n",
    "        return 5\n",
    "    elif disc_size=='32GB':\n",
    "        return 6\n",
    "    elif disc_size=='2TB':\n",
    "        return 7\n",
    "    \n",
    "data['Disc Size']=data['Disc Size'].apply(replace_disc_size)\n",
    "data['Disc Size'].unique()"
   ]
  },
  {
   "cell_type": "markdown",
   "id": "ce68e99d",
   "metadata": {},
   "source": [
    "### 7.Operating System"
   ]
  },
  {
   "cell_type": "code",
   "execution_count": 20,
   "id": "4c924da3",
   "metadata": {},
   "outputs": [
    {
     "data": {
      "text/plain": [
       "array(['Windows 11', 'Windows 10', 'Mac', 'Chrome', 'DOS'], dtype=object)"
      ]
     },
     "execution_count": 20,
     "metadata": {},
     "output_type": "execute_result"
    }
   ],
   "source": [
    "data['Operating System'].unique()"
   ]
  },
  {
   "cell_type": "code",
   "execution_count": 21,
   "id": "3f3c4932",
   "metadata": {},
   "outputs": [
    {
     "data": {
      "text/plain": [
       "array([1, 2, 3, 4, 5], dtype=int64)"
      ]
     },
     "execution_count": 21,
     "metadata": {},
     "output_type": "execute_result"
    }
   ],
   "source": [
    "def replace_os(os):\n",
    "    if os=='Windows 11':\n",
    "        return 1\n",
    "    elif os=='Windows 10':\n",
    "        return 2\n",
    "    elif os=='Mac':\n",
    "        return 3\n",
    "    elif os=='Chrome':\n",
    "        return 4\n",
    "    elif os=='DOS':\n",
    "        return 5\n",
    "    \n",
    "data['Operating System']=data['Operating System'].apply(replace_os)\n",
    "data['Operating System'].unique()"
   ]
  },
  {
   "cell_type": "code",
   "execution_count": 22,
   "id": "37851139",
   "metadata": {},
   "outputs": [
    {
     "data": {
      "text/html": [
       "<div>\n",
       "<style scoped>\n",
       "    .dataframe tbody tr th:only-of-type {\n",
       "        vertical-align: middle;\n",
       "    }\n",
       "\n",
       "    .dataframe tbody tr th {\n",
       "        vertical-align: top;\n",
       "    }\n",
       "\n",
       "    .dataframe thead th {\n",
       "        text-align: right;\n",
       "    }\n",
       "</style>\n",
       "<table border=\"1\" class=\"dataframe\">\n",
       "  <thead>\n",
       "    <tr style=\"text-align: right;\">\n",
       "      <th></th>\n",
       "      <th>Brand</th>\n",
       "      <th>Processor</th>\n",
       "      <th>Operating System</th>\n",
       "      <th>RAM Type</th>\n",
       "      <th>RAM Size</th>\n",
       "      <th>Disc Type</th>\n",
       "      <th>Disc Size</th>\n",
       "      <th>MRP</th>\n",
       "    </tr>\n",
       "  </thead>\n",
       "  <tbody>\n",
       "    <tr>\n",
       "      <th>0</th>\n",
       "      <td>1</td>\n",
       "      <td>1</td>\n",
       "      <td>1</td>\n",
       "      <td>1</td>\n",
       "      <td>1</td>\n",
       "      <td>1</td>\n",
       "      <td>1</td>\n",
       "      <td>36990</td>\n",
       "    </tr>\n",
       "    <tr>\n",
       "      <th>1</th>\n",
       "      <td>1</td>\n",
       "      <td>1</td>\n",
       "      <td>1</td>\n",
       "      <td>1</td>\n",
       "      <td>1</td>\n",
       "      <td>1</td>\n",
       "      <td>2</td>\n",
       "      <td>39990</td>\n",
       "    </tr>\n",
       "    <tr>\n",
       "      <th>2</th>\n",
       "      <td>2</td>\n",
       "      <td>1</td>\n",
       "      <td>1</td>\n",
       "      <td>1</td>\n",
       "      <td>1</td>\n",
       "      <td>1</td>\n",
       "      <td>2</td>\n",
       "      <td>32990</td>\n",
       "    </tr>\n",
       "    <tr>\n",
       "      <th>3</th>\n",
       "      <td>3</td>\n",
       "      <td>2</td>\n",
       "      <td>2</td>\n",
       "      <td>1</td>\n",
       "      <td>1</td>\n",
       "      <td>1</td>\n",
       "      <td>2</td>\n",
       "      <td>49990</td>\n",
       "    </tr>\n",
       "    <tr>\n",
       "      <th>4</th>\n",
       "      <td>2</td>\n",
       "      <td>1</td>\n",
       "      <td>1</td>\n",
       "      <td>1</td>\n",
       "      <td>1</td>\n",
       "      <td>1</td>\n",
       "      <td>2</td>\n",
       "      <td>49990</td>\n",
       "    </tr>\n",
       "  </tbody>\n",
       "</table>\n",
       "</div>"
      ],
      "text/plain": [
       "   Brand  Processor  Operating System  RAM Type  RAM Size  Disc Type  \\\n",
       "0      1          1                 1         1         1          1   \n",
       "1      1          1                 1         1         1          1   \n",
       "2      2          1                 1         1         1          1   \n",
       "3      3          2                 2         1         1          1   \n",
       "4      2          1                 1         1         1          1   \n",
       "\n",
       "   Disc Size    MRP  \n",
       "0          1  36990  \n",
       "1          2  39990  \n",
       "2          2  32990  \n",
       "3          2  49990  \n",
       "4          2  49990  "
      ]
     },
     "execution_count": 22,
     "metadata": {},
     "output_type": "execute_result"
    }
   ],
   "source": [
    "data.head()"
   ]
  },
  {
   "cell_type": "code",
   "execution_count": 23,
   "id": "5fdd7abc",
   "metadata": {},
   "outputs": [
    {
     "data": {
      "text/plain": [
       "Brand               0\n",
       "Processor           0\n",
       "Operating System    0\n",
       "RAM Type            0\n",
       "RAM Size            0\n",
       "Disc Type           0\n",
       "Disc Size           0\n",
       "MRP                 0\n",
       "dtype: int64"
      ]
     },
     "execution_count": 23,
     "metadata": {},
     "output_type": "execute_result"
    }
   ],
   "source": [
    "data.isna().sum()"
   ]
  },
  {
   "cell_type": "markdown",
   "id": "79c44705",
   "metadata": {},
   "source": [
    "### Split the data into dependent and independent"
   ]
  },
  {
   "cell_type": "code",
   "execution_count": 24,
   "id": "dbb5fe6a",
   "metadata": {},
   "outputs": [],
   "source": [
    "X=data.drop('MRP', axis=1).values"
   ]
  },
  {
   "cell_type": "code",
   "execution_count": 25,
   "id": "e8e058d8",
   "metadata": {},
   "outputs": [
    {
     "data": {
      "text/plain": [
       "array([[1, 1, 1, ..., 1, 1, 1],\n",
       "       [1, 1, 1, ..., 1, 1, 2],\n",
       "       [2, 1, 1, ..., 1, 1, 2],\n",
       "       ...,\n",
       "       [2, 2, 1, ..., 2, 1, 3],\n",
       "       [2, 1, 1, ..., 2, 1, 2],\n",
       "       [1, 1, 2, ..., 1, 2, 3]], dtype=int64)"
      ]
     },
     "execution_count": 25,
     "metadata": {},
     "output_type": "execute_result"
    }
   ],
   "source": [
    "X"
   ]
  },
  {
   "cell_type": "code",
   "execution_count": 26,
   "id": "70668425",
   "metadata": {},
   "outputs": [],
   "source": [
    "y=data['MRP'].values"
   ]
  },
  {
   "cell_type": "markdown",
   "id": "cf8e5792",
   "metadata": {},
   "source": [
    "# Feature Scailing"
   ]
  },
  {
   "cell_type": "code",
   "execution_count": 27,
   "id": "a7f0821d",
   "metadata": {},
   "outputs": [],
   "source": [
    "from sklearn.preprocessing import StandardScaler"
   ]
  },
  {
   "cell_type": "code",
   "execution_count": 28,
   "id": "932235e2",
   "metadata": {},
   "outputs": [
    {
     "name": "stdout",
     "output_type": "stream",
     "text": [
      "[[-0.80688224 -0.87423048 -0.46911664 ... -0.76754824 -0.28058001\n",
      "  -1.45873792]\n",
      " [-0.80688224 -0.87423048 -0.46911664 ... -0.76754824 -0.28058001\n",
      "  -0.31711694]\n",
      " [-0.44104142 -0.87423048 -0.46911664 ... -0.76754824 -0.28058001\n",
      "  -0.31711694]\n",
      " ...\n",
      " [-0.44104142  0.91906281 -0.46911664 ...  0.65676808 -0.28058001\n",
      "   0.82450404]\n",
      " [-0.44104142 -0.87423048 -0.46911664 ...  0.65676808 -0.28058001\n",
      "  -0.31711694]\n",
      " [-0.80688224 -0.87423048  1.21970327 ... -0.76754824  2.69026717\n",
      "   0.82450404]]\n"
     ]
    }
   ],
   "source": [
    "std=StandardScaler()\n",
    "X=std.fit_transform(X)\n",
    "print(X)"
   ]
  },
  {
   "cell_type": "markdown",
   "id": "2ace5b62",
   "metadata": {},
   "source": [
    "## Splitting into Train and Test set"
   ]
  },
  {
   "cell_type": "code",
   "execution_count": 29,
   "id": "382d228b",
   "metadata": {},
   "outputs": [],
   "source": [
    "from sklearn.model_selection import train_test_split"
   ]
  },
  {
   "cell_type": "code",
   "execution_count": 30,
   "id": "d5f1d415",
   "metadata": {},
   "outputs": [],
   "source": [
    "x_train, x_test, y_train, y_test = train_test_split(X, y, test_size=0.2, random_state=42)"
   ]
  },
  {
   "cell_type": "markdown",
   "id": "72f29e15",
   "metadata": {},
   "source": [
    "## Implimenting ML Models"
   ]
  },
  {
   "cell_type": "markdown",
   "id": "a216e5e3",
   "metadata": {},
   "source": [
    "#### 1.linear Regression "
   ]
  },
  {
   "cell_type": "code",
   "execution_count": 31,
   "id": "8d7362dd",
   "metadata": {},
   "outputs": [],
   "source": [
    "from sklearn.linear_model import LinearRegression\n",
    "lr=LinearRegression()\n",
    "lr=lr.fit(x_train,y_train)\n",
    "y_pred=lr.predict(x_test)"
   ]
  },
  {
   "cell_type": "code",
   "execution_count": 32,
   "id": "d778762b",
   "metadata": {},
   "outputs": [],
   "source": [
    "from sklearn.metrics import mean_squared_error as mse, r2_score"
   ]
  },
  {
   "cell_type": "code",
   "execution_count": 33,
   "id": "2a8011a2",
   "metadata": {},
   "outputs": [],
   "source": [
    "MSE=mse(y_pred,y_test).round(2)\n",
    "RMSE=np.sqrt(MSE).round(2)\n",
    "R2=r2_score(y_pred, y_test).round(2)"
   ]
  },
  {
   "cell_type": "code",
   "execution_count": 34,
   "id": "c1950b1b",
   "metadata": {},
   "outputs": [
    {
     "data": {
      "text/html": [
       "<div>\n",
       "<style scoped>\n",
       "    .dataframe tbody tr th:only-of-type {\n",
       "        vertical-align: middle;\n",
       "    }\n",
       "\n",
       "    .dataframe tbody tr th {\n",
       "        vertical-align: top;\n",
       "    }\n",
       "\n",
       "    .dataframe thead th {\n",
       "        text-align: right;\n",
       "    }\n",
       "</style>\n",
       "<table border=\"1\" class=\"dataframe\">\n",
       "  <thead>\n",
       "    <tr style=\"text-align: right;\">\n",
       "      <th></th>\n",
       "      <th>Model</th>\n",
       "      <th>MSE</th>\n",
       "      <th>RMSE</th>\n",
       "      <th>R2 Score</th>\n",
       "    </tr>\n",
       "  </thead>\n",
       "  <tbody>\n",
       "    <tr>\n",
       "      <th>0</th>\n",
       "      <td>Linear Regression</td>\n",
       "      <td>1.165097e+09</td>\n",
       "      <td>34133.52</td>\n",
       "      <td>0.52</td>\n",
       "    </tr>\n",
       "  </tbody>\n",
       "</table>\n",
       "</div>"
      ],
      "text/plain": [
       "               Model           MSE      RMSE  R2 Score\n",
       "0  Linear Regression  1.165097e+09  34133.52      0.52"
      ]
     },
     "execution_count": 34,
     "metadata": {},
     "output_type": "execute_result"
    }
   ],
   "source": [
    "accuracy_results=pd.DataFrame({\"Model\":[\"Linear Regression\"], \"MSE\":[MSE], \"RMSE\":[RMSE], \"R2 Score\":[R2]})\n",
    "accuracy_results"
   ]
  },
  {
   "cell_type": "markdown",
   "id": "54863329",
   "metadata": {},
   "source": [
    "#### 2.KNN Regression"
   ]
  },
  {
   "cell_type": "code",
   "execution_count": 35,
   "id": "b27f6836",
   "metadata": {},
   "outputs": [],
   "source": [
    "from sklearn.neighbors import KNeighborsRegressor"
   ]
  },
  {
   "cell_type": "code",
   "execution_count": 36,
   "id": "ac2676c6",
   "metadata": {},
   "outputs": [],
   "source": [
    "knn=KNeighborsRegressor(n_neighbors=3)\n",
    "knn=knn.fit(x_train,y_train)\n",
    "y_pred=knn.predict(x_test)"
   ]
  },
  {
   "cell_type": "code",
   "execution_count": 37,
   "id": "3752a663",
   "metadata": {},
   "outputs": [],
   "source": [
    "MSE=mse(y_pred,y_test).round(2)\n",
    "RMSE=np.sqrt(MSE).round(2)\n",
    "R2=r2_score(y_pred, y_test).round(2)"
   ]
  },
  {
   "cell_type": "code",
   "execution_count": 38,
   "id": "dbfd2a26",
   "metadata": {},
   "outputs": [
    {
     "data": {
      "text/html": [
       "<div>\n",
       "<style scoped>\n",
       "    .dataframe tbody tr th:only-of-type {\n",
       "        vertical-align: middle;\n",
       "    }\n",
       "\n",
       "    .dataframe tbody tr th {\n",
       "        vertical-align: top;\n",
       "    }\n",
       "\n",
       "    .dataframe thead th {\n",
       "        text-align: right;\n",
       "    }\n",
       "</style>\n",
       "<table border=\"1\" class=\"dataframe\">\n",
       "  <thead>\n",
       "    <tr style=\"text-align: right;\">\n",
       "      <th></th>\n",
       "      <th>Model</th>\n",
       "      <th>MSE</th>\n",
       "      <th>RMSE</th>\n",
       "      <th>R2 Score</th>\n",
       "    </tr>\n",
       "  </thead>\n",
       "  <tbody>\n",
       "    <tr>\n",
       "      <th>0</th>\n",
       "      <td>Linear Regression</td>\n",
       "      <td>1.165097e+09</td>\n",
       "      <td>34133.52</td>\n",
       "      <td>0.52</td>\n",
       "    </tr>\n",
       "    <tr>\n",
       "      <th>0</th>\n",
       "      <td>KNN Regression</td>\n",
       "      <td>8.127858e+08</td>\n",
       "      <td>28509.40</td>\n",
       "      <td>0.81</td>\n",
       "    </tr>\n",
       "  </tbody>\n",
       "</table>\n",
       "</div>"
      ],
      "text/plain": [
       "               Model           MSE      RMSE  R2 Score\n",
       "0  Linear Regression  1.165097e+09  34133.52      0.52\n",
       "0     KNN Regression  8.127858e+08  28509.40      0.81"
      ]
     },
     "execution_count": 38,
     "metadata": {},
     "output_type": "execute_result"
    }
   ],
   "source": [
    "result=pd.DataFrame({\"Model\":[\"KNN Regression\"], \"MSE\":[MSE], \"RMSE\":[RMSE], \"R2 Score\":[R2]})\n",
    "results=pd.concat([accuracy_results,result])\n",
    "results"
   ]
  },
  {
   "cell_type": "markdown",
   "id": "6f91f50c",
   "metadata": {},
   "source": [
    "#### 3.Decision Tree"
   ]
  },
  {
   "cell_type": "code",
   "execution_count": 39,
   "id": "0e59146a",
   "metadata": {},
   "outputs": [],
   "source": [
    "from sklearn.tree import DecisionTreeRegressor"
   ]
  },
  {
   "cell_type": "code",
   "execution_count": 40,
   "id": "1357bc93",
   "metadata": {},
   "outputs": [],
   "source": [
    "dt=DecisionTreeRegressor(random_state=0)\n",
    "dt.fit(x_train,y_train)\n",
    "y_pred=dt.predict(x_test)"
   ]
  },
  {
   "cell_type": "code",
   "execution_count": 41,
   "id": "00b063c1",
   "metadata": {},
   "outputs": [
    {
     "data": {
      "text/html": [
       "<div>\n",
       "<style scoped>\n",
       "    .dataframe tbody tr th:only-of-type {\n",
       "        vertical-align: middle;\n",
       "    }\n",
       "\n",
       "    .dataframe tbody tr th {\n",
       "        vertical-align: top;\n",
       "    }\n",
       "\n",
       "    .dataframe thead th {\n",
       "        text-align: right;\n",
       "    }\n",
       "</style>\n",
       "<table border=\"1\" class=\"dataframe\">\n",
       "  <thead>\n",
       "    <tr style=\"text-align: right;\">\n",
       "      <th></th>\n",
       "      <th>Model</th>\n",
       "      <th>MSE</th>\n",
       "      <th>RMSE</th>\n",
       "      <th>R2 Score</th>\n",
       "    </tr>\n",
       "  </thead>\n",
       "  <tbody>\n",
       "    <tr>\n",
       "      <th>0</th>\n",
       "      <td>Linear Regression</td>\n",
       "      <td>1.165097e+09</td>\n",
       "      <td>34133.52</td>\n",
       "      <td>0.52</td>\n",
       "    </tr>\n",
       "    <tr>\n",
       "      <th>0</th>\n",
       "      <td>KNN Regression</td>\n",
       "      <td>8.127858e+08</td>\n",
       "      <td>28509.40</td>\n",
       "      <td>0.81</td>\n",
       "    </tr>\n",
       "    <tr>\n",
       "      <th>0</th>\n",
       "      <td>Decision Tree Regression</td>\n",
       "      <td>5.533518e+08</td>\n",
       "      <td>23523.43</td>\n",
       "      <td>0.85</td>\n",
       "    </tr>\n",
       "  </tbody>\n",
       "</table>\n",
       "</div>"
      ],
      "text/plain": [
       "                      Model           MSE      RMSE  R2 Score\n",
       "0         Linear Regression  1.165097e+09  34133.52      0.52\n",
       "0            KNN Regression  8.127858e+08  28509.40      0.81\n",
       "0  Decision Tree Regression  5.533518e+08  23523.43      0.85"
      ]
     },
     "execution_count": 41,
     "metadata": {},
     "output_type": "execute_result"
    }
   ],
   "source": [
    "MSE=mse(y_pred,y_test).round(2)\n",
    "RMSE=np.sqrt(MSE).round(2)\n",
    "R2=r2_score(y_pred, y_test).round(2)\n",
    "\n",
    "result=pd.DataFrame({\"Model\":[\"Decision Tree Regression\"], \"MSE\":[MSE], \"RMSE\":[RMSE], \"R2 Score\":[R2]})\n",
    "\n",
    "results=pd.concat([results,result])\n",
    "results"
   ]
  },
  {
   "cell_type": "markdown",
   "id": "94168674",
   "metadata": {},
   "source": [
    "#### 4.Random Forest"
   ]
  },
  {
   "cell_type": "code",
   "execution_count": 42,
   "id": "6abc3134",
   "metadata": {},
   "outputs": [],
   "source": [
    "from sklearn.ensemble import RandomForestRegressor"
   ]
  },
  {
   "cell_type": "code",
   "execution_count": 43,
   "id": "559d897e",
   "metadata": {},
   "outputs": [],
   "source": [
    "rf=RandomForestRegressor()\n",
    "rf.fit(x_train,y_train)\n",
    "y_pred=rf.predict(x_test)"
   ]
  },
  {
   "cell_type": "code",
   "execution_count": 44,
   "id": "c613ae87",
   "metadata": {},
   "outputs": [
    {
     "data": {
      "text/html": [
       "<div>\n",
       "<style scoped>\n",
       "    .dataframe tbody tr th:only-of-type {\n",
       "        vertical-align: middle;\n",
       "    }\n",
       "\n",
       "    .dataframe tbody tr th {\n",
       "        vertical-align: top;\n",
       "    }\n",
       "\n",
       "    .dataframe thead th {\n",
       "        text-align: right;\n",
       "    }\n",
       "</style>\n",
       "<table border=\"1\" class=\"dataframe\">\n",
       "  <thead>\n",
       "    <tr style=\"text-align: right;\">\n",
       "      <th></th>\n",
       "      <th>Model</th>\n",
       "      <th>MSE</th>\n",
       "      <th>RMSE</th>\n",
       "      <th>R2 Score</th>\n",
       "    </tr>\n",
       "  </thead>\n",
       "  <tbody>\n",
       "    <tr>\n",
       "      <th>0</th>\n",
       "      <td>Linear Regression</td>\n",
       "      <td>1.165097e+09</td>\n",
       "      <td>34133.52</td>\n",
       "      <td>0.52</td>\n",
       "    </tr>\n",
       "    <tr>\n",
       "      <th>0</th>\n",
       "      <td>KNN Regression</td>\n",
       "      <td>8.127858e+08</td>\n",
       "      <td>28509.40</td>\n",
       "      <td>0.81</td>\n",
       "    </tr>\n",
       "    <tr>\n",
       "      <th>0</th>\n",
       "      <td>Decision Tree Regression</td>\n",
       "      <td>5.533518e+08</td>\n",
       "      <td>23523.43</td>\n",
       "      <td>0.85</td>\n",
       "    </tr>\n",
       "    <tr>\n",
       "      <th>0</th>\n",
       "      <td>Random Forest Regression</td>\n",
       "      <td>5.533518e+08</td>\n",
       "      <td>23523.43</td>\n",
       "      <td>0.85</td>\n",
       "    </tr>\n",
       "  </tbody>\n",
       "</table>\n",
       "</div>"
      ],
      "text/plain": [
       "                      Model           MSE      RMSE  R2 Score\n",
       "0         Linear Regression  1.165097e+09  34133.52      0.52\n",
       "0            KNN Regression  8.127858e+08  28509.40      0.81\n",
       "0  Decision Tree Regression  5.533518e+08  23523.43      0.85\n",
       "0  Random Forest Regression  5.533518e+08  23523.43      0.85"
      ]
     },
     "execution_count": 44,
     "metadata": {},
     "output_type": "execute_result"
    }
   ],
   "source": [
    "result=pd.DataFrame({\"Model\":[\"Random Forest Regression\"], \"MSE\":[MSE], \"RMSE\":[RMSE], \"R2 Score\":[R2]})\n",
    "results=pd.concat([results,result])\n",
    "results\n"
   ]
  },
  {
   "cell_type": "markdown",
   "id": "b6f07001",
   "metadata": {},
   "source": [
    "#### 5.Gradient boosting"
   ]
  },
  {
   "cell_type": "code",
   "execution_count": 45,
   "id": "e94c50c4",
   "metadata": {},
   "outputs": [],
   "source": [
    "from sklearn.ensemble import GradientBoostingRegressor"
   ]
  },
  {
   "cell_type": "code",
   "execution_count": 46,
   "id": "400abe0d",
   "metadata": {},
   "outputs": [],
   "source": [
    "grb= GradientBoostingRegressor(n_estimators =100,random_state =0) \n",
    "grb.fit(x_train, y_train) \n",
    "y_pred = grb.predict(x_test)"
   ]
  },
  {
   "cell_type": "code",
   "execution_count": 47,
   "id": "853ced2c",
   "metadata": {},
   "outputs": [],
   "source": [
    "MSE=mse(y_pred,y_test).round(2)\n",
    "RMSE=np.sqrt(MSE).round(2)\n",
    "R2=r2_score(y_pred, y_test)"
   ]
  },
  {
   "cell_type": "code",
   "execution_count": 48,
   "id": "8ce9077b",
   "metadata": {},
   "outputs": [
    {
     "data": {
      "text/html": [
       "<div>\n",
       "<style scoped>\n",
       "    .dataframe tbody tr th:only-of-type {\n",
       "        vertical-align: middle;\n",
       "    }\n",
       "\n",
       "    .dataframe tbody tr th {\n",
       "        vertical-align: top;\n",
       "    }\n",
       "\n",
       "    .dataframe thead th {\n",
       "        text-align: right;\n",
       "    }\n",
       "</style>\n",
       "<table border=\"1\" class=\"dataframe\">\n",
       "  <thead>\n",
       "    <tr style=\"text-align: right;\">\n",
       "      <th></th>\n",
       "      <th>Model</th>\n",
       "      <th>MSE</th>\n",
       "      <th>RMSE</th>\n",
       "      <th>R2 Score</th>\n",
       "    </tr>\n",
       "  </thead>\n",
       "  <tbody>\n",
       "    <tr>\n",
       "      <th>0</th>\n",
       "      <td>Linear Regression</td>\n",
       "      <td>1.165097e+09</td>\n",
       "      <td>34133.52</td>\n",
       "      <td>0.520000</td>\n",
       "    </tr>\n",
       "    <tr>\n",
       "      <th>0</th>\n",
       "      <td>KNN Regression</td>\n",
       "      <td>8.127858e+08</td>\n",
       "      <td>28509.40</td>\n",
       "      <td>0.810000</td>\n",
       "    </tr>\n",
       "    <tr>\n",
       "      <th>0</th>\n",
       "      <td>Decision Tree Regression</td>\n",
       "      <td>5.533518e+08</td>\n",
       "      <td>23523.43</td>\n",
       "      <td>0.850000</td>\n",
       "    </tr>\n",
       "    <tr>\n",
       "      <th>0</th>\n",
       "      <td>Random Forest Regression</td>\n",
       "      <td>5.533518e+08</td>\n",
       "      <td>23523.43</td>\n",
       "      <td>0.850000</td>\n",
       "    </tr>\n",
       "    <tr>\n",
       "      <th>0</th>\n",
       "      <td>Gradient Boosting Regression</td>\n",
       "      <td>5.494580e+08</td>\n",
       "      <td>23440.52</td>\n",
       "      <td>0.862283</td>\n",
       "    </tr>\n",
       "  </tbody>\n",
       "</table>\n",
       "</div>"
      ],
      "text/plain": [
       "                          Model           MSE      RMSE  R2 Score\n",
       "0             Linear Regression  1.165097e+09  34133.52  0.520000\n",
       "0                KNN Regression  8.127858e+08  28509.40  0.810000\n",
       "0      Decision Tree Regression  5.533518e+08  23523.43  0.850000\n",
       "0      Random Forest Regression  5.533518e+08  23523.43  0.850000\n",
       "0  Gradient Boosting Regression  5.494580e+08  23440.52  0.862283"
      ]
     },
     "execution_count": 48,
     "metadata": {},
     "output_type": "execute_result"
    }
   ],
   "source": [
    "result=pd.DataFrame({\"Model\":[\"Gradient Boosting Regression\"], \"MSE\":[MSE], \"RMSE\":[RMSE], \"R2 Score\":[R2]})\n",
    "results=pd.concat([results,result])\n",
    "results"
   ]
  },
  {
   "cell_type": "markdown",
   "id": "2eef0194",
   "metadata": {},
   "source": [
    "#### 6. ADA Boost"
   ]
  },
  {
   "cell_type": "code",
   "execution_count": 49,
   "id": "4b3a57a2",
   "metadata": {},
   "outputs": [],
   "source": [
    "from sklearn.ensemble import AdaBoostRegressor"
   ]
  },
  {
   "cell_type": "code",
   "execution_count": 50,
   "id": "05c100c9",
   "metadata": {},
   "outputs": [],
   "source": [
    "ada=AdaBoostRegressor(n_estimators=100,learning_rate=0.001,random_state=0)\n",
    "ada.fit(x_train,y_train)\n",
    "y_pred=ada.predict(x_test)"
   ]
  },
  {
   "cell_type": "code",
   "execution_count": 51,
   "id": "e74088bc",
   "metadata": {},
   "outputs": [
    {
     "data": {
      "text/html": [
       "<div>\n",
       "<style scoped>\n",
       "    .dataframe tbody tr th:only-of-type {\n",
       "        vertical-align: middle;\n",
       "    }\n",
       "\n",
       "    .dataframe tbody tr th {\n",
       "        vertical-align: top;\n",
       "    }\n",
       "\n",
       "    .dataframe thead th {\n",
       "        text-align: right;\n",
       "    }\n",
       "</style>\n",
       "<table border=\"1\" class=\"dataframe\">\n",
       "  <thead>\n",
       "    <tr style=\"text-align: right;\">\n",
       "      <th></th>\n",
       "      <th>Model</th>\n",
       "      <th>MSE</th>\n",
       "      <th>RMSE</th>\n",
       "      <th>R2 Score</th>\n",
       "    </tr>\n",
       "  </thead>\n",
       "  <tbody>\n",
       "    <tr>\n",
       "      <th>0</th>\n",
       "      <td>Linear Regression</td>\n",
       "      <td>1.165097e+09</td>\n",
       "      <td>34133.52</td>\n",
       "      <td>0.520000</td>\n",
       "    </tr>\n",
       "    <tr>\n",
       "      <th>0</th>\n",
       "      <td>KNN Regression</td>\n",
       "      <td>8.127858e+08</td>\n",
       "      <td>28509.40</td>\n",
       "      <td>0.810000</td>\n",
       "    </tr>\n",
       "    <tr>\n",
       "      <th>0</th>\n",
       "      <td>Decision Tree Regression</td>\n",
       "      <td>5.533518e+08</td>\n",
       "      <td>23523.43</td>\n",
       "      <td>0.850000</td>\n",
       "    </tr>\n",
       "    <tr>\n",
       "      <th>0</th>\n",
       "      <td>Random Forest Regression</td>\n",
       "      <td>5.533518e+08</td>\n",
       "      <td>23523.43</td>\n",
       "      <td>0.850000</td>\n",
       "    </tr>\n",
       "    <tr>\n",
       "      <th>0</th>\n",
       "      <td>Gradient Boosting Regression</td>\n",
       "      <td>5.494580e+08</td>\n",
       "      <td>23440.52</td>\n",
       "      <td>0.862283</td>\n",
       "    </tr>\n",
       "    <tr>\n",
       "      <th>0</th>\n",
       "      <td>ADA Boost Regression</td>\n",
       "      <td>7.588018e+08</td>\n",
       "      <td>27546.36</td>\n",
       "      <td>0.744745</td>\n",
       "    </tr>\n",
       "  </tbody>\n",
       "</table>\n",
       "</div>"
      ],
      "text/plain": [
       "                          Model           MSE      RMSE  R2 Score\n",
       "0             Linear Regression  1.165097e+09  34133.52  0.520000\n",
       "0                KNN Regression  8.127858e+08  28509.40  0.810000\n",
       "0      Decision Tree Regression  5.533518e+08  23523.43  0.850000\n",
       "0      Random Forest Regression  5.533518e+08  23523.43  0.850000\n",
       "0  Gradient Boosting Regression  5.494580e+08  23440.52  0.862283\n",
       "0          ADA Boost Regression  7.588018e+08  27546.36  0.744745"
      ]
     },
     "execution_count": 51,
     "metadata": {},
     "output_type": "execute_result"
    }
   ],
   "source": [
    "MSE=mse(y_pred,y_test).round(2)\n",
    "RMSE=np.sqrt(MSE).round(2)\n",
    "R2=r2_score(y_pred, y_test)\n",
    "\n",
    "result=pd.DataFrame({\"Model\":[\"ADA Boost Regression\"], \"MSE\":[MSE], \"RMSE\":[RMSE], \"R2 Score\":[R2]})\n",
    "\n",
    "results=pd.concat([results,result])\n",
    "results"
   ]
  },
  {
   "cell_type": "markdown",
   "id": "7ac0f605",
   "metadata": {},
   "source": [
    "#### 7.XG boost"
   ]
  },
  {
   "cell_type": "code",
   "execution_count": 52,
   "id": "e2909e3c",
   "metadata": {},
   "outputs": [
    {
     "name": "stdout",
     "output_type": "stream",
     "text": [
      "Requirement already satisfied: xgboost in c:\\users\\hrush\\appdata\\roaming\\python\\python39\\site-packages (1.7.5)\n",
      "Requirement already satisfied: scipy in c:\\users\\hrush\\anaconda3\\lib\\site-packages (from xgboost) (1.7.3)\n",
      "Requirement already satisfied: numpy in c:\\users\\hrush\\anaconda3\\lib\\site-packages (from xgboost) (1.21.5)\n",
      "Note: you may need to restart the kernel to use updated packages.\n"
     ]
    }
   ],
   "source": [
    "pip install --user xgboost"
   ]
  },
  {
   "cell_type": "code",
   "execution_count": 53,
   "id": "22c3440e",
   "metadata": {},
   "outputs": [],
   "source": [
    "from xgboost import XGBRegressor"
   ]
  },
  {
   "cell_type": "code",
   "execution_count": 54,
   "id": "764e71be",
   "metadata": {},
   "outputs": [],
   "source": [
    "xgb=XGBRegressor(verbosity=0) \n",
    "xgb.fit(x_train,y_train)\n",
    "y_pred=xgb.predict(x_test)"
   ]
  },
  {
   "cell_type": "code",
   "execution_count": 55,
   "id": "ef05a067",
   "metadata": {},
   "outputs": [
    {
     "data": {
      "text/html": [
       "<div>\n",
       "<style scoped>\n",
       "    .dataframe tbody tr th:only-of-type {\n",
       "        vertical-align: middle;\n",
       "    }\n",
       "\n",
       "    .dataframe tbody tr th {\n",
       "        vertical-align: top;\n",
       "    }\n",
       "\n",
       "    .dataframe thead th {\n",
       "        text-align: right;\n",
       "    }\n",
       "</style>\n",
       "<table border=\"1\" class=\"dataframe\">\n",
       "  <thead>\n",
       "    <tr style=\"text-align: right;\">\n",
       "      <th></th>\n",
       "      <th>Model</th>\n",
       "      <th>MSE</th>\n",
       "      <th>RMSE</th>\n",
       "      <th>R2 Score</th>\n",
       "    </tr>\n",
       "  </thead>\n",
       "  <tbody>\n",
       "    <tr>\n",
       "      <th>0</th>\n",
       "      <td>Linear Regression</td>\n",
       "      <td>1.165097e+09</td>\n",
       "      <td>34133.52</td>\n",
       "      <td>0.520000</td>\n",
       "    </tr>\n",
       "    <tr>\n",
       "      <th>0</th>\n",
       "      <td>KNN Regression</td>\n",
       "      <td>8.127858e+08</td>\n",
       "      <td>28509.40</td>\n",
       "      <td>0.810000</td>\n",
       "    </tr>\n",
       "    <tr>\n",
       "      <th>0</th>\n",
       "      <td>Decision Tree Regression</td>\n",
       "      <td>5.533518e+08</td>\n",
       "      <td>23523.43</td>\n",
       "      <td>0.850000</td>\n",
       "    </tr>\n",
       "    <tr>\n",
       "      <th>0</th>\n",
       "      <td>Random Forest Regression</td>\n",
       "      <td>5.533518e+08</td>\n",
       "      <td>23523.43</td>\n",
       "      <td>0.850000</td>\n",
       "    </tr>\n",
       "    <tr>\n",
       "      <th>0</th>\n",
       "      <td>Gradient Boosting Regression</td>\n",
       "      <td>5.494580e+08</td>\n",
       "      <td>23440.52</td>\n",
       "      <td>0.862283</td>\n",
       "    </tr>\n",
       "    <tr>\n",
       "      <th>0</th>\n",
       "      <td>ADA Boost Regression</td>\n",
       "      <td>7.588018e+08</td>\n",
       "      <td>27546.36</td>\n",
       "      <td>0.744745</td>\n",
       "    </tr>\n",
       "    <tr>\n",
       "      <th>0</th>\n",
       "      <td>XG Boost Regression</td>\n",
       "      <td>5.649938e+08</td>\n",
       "      <td>23769.60</td>\n",
       "      <td>0.845917</td>\n",
       "    </tr>\n",
       "  </tbody>\n",
       "</table>\n",
       "</div>"
      ],
      "text/plain": [
       "                          Model           MSE      RMSE  R2 Score\n",
       "0             Linear Regression  1.165097e+09  34133.52  0.520000\n",
       "0                KNN Regression  8.127858e+08  28509.40  0.810000\n",
       "0      Decision Tree Regression  5.533518e+08  23523.43  0.850000\n",
       "0      Random Forest Regression  5.533518e+08  23523.43  0.850000\n",
       "0  Gradient Boosting Regression  5.494580e+08  23440.52  0.862283\n",
       "0          ADA Boost Regression  7.588018e+08  27546.36  0.744745\n",
       "0           XG Boost Regression  5.649938e+08  23769.60  0.845917"
      ]
     },
     "execution_count": 55,
     "metadata": {},
     "output_type": "execute_result"
    }
   ],
   "source": [
    "MSE=mse(y_pred,y_test).round(2)\n",
    "RMSE=np.sqrt(MSE).round(2)\n",
    "R2=r2_score(y_pred, y_test)\n",
    "\n",
    "result=pd.DataFrame({\"Model\":[\"XG Boost Regression\"], \"MSE\":[MSE], \"RMSE\":[RMSE], \"R2 Score\":[R2]})\n",
    "\n",
    "results=pd.concat([results,result])\n",
    "results"
   ]
  },
  {
   "cell_type": "markdown",
   "id": "b53a1d8f",
   "metadata": {},
   "source": [
    "### XG boost regressor has high R2 score and low RMSE.SO ,tune this model and select this to predict the price of Laptop."
   ]
  },
  {
   "cell_type": "code",
   "execution_count": 56,
   "id": "68a709a4",
   "metadata": {},
   "outputs": [
    {
     "name": "stdout",
     "output_type": "stream",
     "text": [
      "457971928.85\n",
      "21400.27870963367\n",
      "86.84\n"
     ]
    }
   ],
   "source": [
    "xgb=XGBRegressor(learning_rate=0.15, n_estimators=50, max_leaves=0, random_state=42)\n",
    "\n",
    "xgb.fit(x_train,y_train)\n",
    "y_pred=xgb.predict(x_test)\n",
    "\n",
    "print(mse(y_pred,y_test).round(2))\n",
    "print(np.sqrt(mse(y_pred,y_test).round(2)))\n",
    "print(((r2_score(y_pred, y_test))*100).round(2))"
   ]
  },
  {
   "cell_type": "markdown",
   "id": "39b71d6c",
   "metadata": {},
   "source": [
    "# Using Encoding (OneHotEncoding/Dummies)"
   ]
  },
  {
   "cell_type": "code",
   "execution_count": 57,
   "id": "19ebc18a",
   "metadata": {},
   "outputs": [],
   "source": [
    "data=df.copy()"
   ]
  },
  {
   "cell_type": "markdown",
   "id": "d5cf5938",
   "metadata": {},
   "source": [
    "### Create dummies for all Categorical column"
   ]
  },
  {
   "cell_type": "code",
   "execution_count": 58,
   "id": "676f9dda",
   "metadata": {},
   "outputs": [],
   "source": [
    "pd.options.display.max_columns=100"
   ]
  },
  {
   "cell_type": "code",
   "execution_count": 59,
   "id": "f66a94ea",
   "metadata": {},
   "outputs": [
    {
     "data": {
      "text/html": [
       "<div>\n",
       "<style scoped>\n",
       "    .dataframe tbody tr th:only-of-type {\n",
       "        vertical-align: middle;\n",
       "    }\n",
       "\n",
       "    .dataframe tbody tr th {\n",
       "        vertical-align: top;\n",
       "    }\n",
       "\n",
       "    .dataframe thead th {\n",
       "        text-align: right;\n",
       "    }\n",
       "</style>\n",
       "<table border=\"1\" class=\"dataframe\">\n",
       "  <thead>\n",
       "    <tr style=\"text-align: right;\">\n",
       "      <th></th>\n",
       "      <th>MRP</th>\n",
       "      <th>Brand_ALIENWARE</th>\n",
       "      <th>Brand_APPLE</th>\n",
       "      <th>Brand_ASUS</th>\n",
       "      <th>Brand_DELL</th>\n",
       "      <th>Brand_GIGABYTE</th>\n",
       "      <th>Brand_HP</th>\n",
       "      <th>Brand_Infinix</th>\n",
       "      <th>Brand_Lenovo</th>\n",
       "      <th>Brand_MSI</th>\n",
       "      <th>Brand_Nokia</th>\n",
       "      <th>Brand_RedmiBook</th>\n",
       "      <th>Brand_SAMSUNG</th>\n",
       "      <th>Brand_Ultimus</th>\n",
       "      <th>Brand_Vaio</th>\n",
       "      <th>Brand_acer</th>\n",
       "      <th>Brand_realme</th>\n",
       "      <th>Processor_AMD</th>\n",
       "      <th>Processor_Apple</th>\n",
       "      <th>Processor_Intel</th>\n",
       "      <th>Processor_Qualcomm</th>\n",
       "      <th>Operating System_Chrome</th>\n",
       "      <th>Operating System_DOS</th>\n",
       "      <th>Operating System_Mac</th>\n",
       "      <th>Operating System_Windows 10</th>\n",
       "      <th>Operating System_Windows 11</th>\n",
       "      <th>RAM Type_DDR4</th>\n",
       "      <th>RAM Type_DDR5</th>\n",
       "      <th>RAM Type_LPDDR3</th>\n",
       "      <th>RAM Type_LPDDR4</th>\n",
       "      <th>RAM Type_LPDDR4X</th>\n",
       "      <th>RAM Type_LPDDR5</th>\n",
       "      <th>RAM Type_Unified</th>\n",
       "      <th>RAM Size_16GB</th>\n",
       "      <th>RAM Size_32GB</th>\n",
       "      <th>RAM Size_4GB</th>\n",
       "      <th>RAM Size_8GB</th>\n",
       "      <th>Disc Type_EMMC</th>\n",
       "      <th>Disc Type_HDD</th>\n",
       "      <th>Disc Type_SSD</th>\n",
       "      <th>Disc Size_128GB</th>\n",
       "      <th>Disc Size_1TB</th>\n",
       "      <th>Disc Size_256GB</th>\n",
       "      <th>Disc Size_2TB</th>\n",
       "      <th>Disc Size_32GB</th>\n",
       "      <th>Disc Size_512GB</th>\n",
       "      <th>Disc Size_64GB</th>\n",
       "    </tr>\n",
       "  </thead>\n",
       "  <tbody>\n",
       "    <tr>\n",
       "      <th>0</th>\n",
       "      <td>36990</td>\n",
       "      <td>0</td>\n",
       "      <td>0</td>\n",
       "      <td>0</td>\n",
       "      <td>0</td>\n",
       "      <td>0</td>\n",
       "      <td>0</td>\n",
       "      <td>0</td>\n",
       "      <td>1</td>\n",
       "      <td>0</td>\n",
       "      <td>0</td>\n",
       "      <td>0</td>\n",
       "      <td>0</td>\n",
       "      <td>0</td>\n",
       "      <td>0</td>\n",
       "      <td>0</td>\n",
       "      <td>0</td>\n",
       "      <td>0</td>\n",
       "      <td>0</td>\n",
       "      <td>1</td>\n",
       "      <td>0</td>\n",
       "      <td>0</td>\n",
       "      <td>0</td>\n",
       "      <td>0</td>\n",
       "      <td>0</td>\n",
       "      <td>1</td>\n",
       "      <td>1</td>\n",
       "      <td>0</td>\n",
       "      <td>0</td>\n",
       "      <td>0</td>\n",
       "      <td>0</td>\n",
       "      <td>0</td>\n",
       "      <td>0</td>\n",
       "      <td>0</td>\n",
       "      <td>0</td>\n",
       "      <td>0</td>\n",
       "      <td>1</td>\n",
       "      <td>0</td>\n",
       "      <td>0</td>\n",
       "      <td>1</td>\n",
       "      <td>0</td>\n",
       "      <td>0</td>\n",
       "      <td>1</td>\n",
       "      <td>0</td>\n",
       "      <td>0</td>\n",
       "      <td>0</td>\n",
       "      <td>0</td>\n",
       "    </tr>\n",
       "    <tr>\n",
       "      <th>1</th>\n",
       "      <td>39990</td>\n",
       "      <td>0</td>\n",
       "      <td>0</td>\n",
       "      <td>0</td>\n",
       "      <td>0</td>\n",
       "      <td>0</td>\n",
       "      <td>0</td>\n",
       "      <td>0</td>\n",
       "      <td>1</td>\n",
       "      <td>0</td>\n",
       "      <td>0</td>\n",
       "      <td>0</td>\n",
       "      <td>0</td>\n",
       "      <td>0</td>\n",
       "      <td>0</td>\n",
       "      <td>0</td>\n",
       "      <td>0</td>\n",
       "      <td>0</td>\n",
       "      <td>0</td>\n",
       "      <td>1</td>\n",
       "      <td>0</td>\n",
       "      <td>0</td>\n",
       "      <td>0</td>\n",
       "      <td>0</td>\n",
       "      <td>0</td>\n",
       "      <td>1</td>\n",
       "      <td>1</td>\n",
       "      <td>0</td>\n",
       "      <td>0</td>\n",
       "      <td>0</td>\n",
       "      <td>0</td>\n",
       "      <td>0</td>\n",
       "      <td>0</td>\n",
       "      <td>0</td>\n",
       "      <td>0</td>\n",
       "      <td>0</td>\n",
       "      <td>1</td>\n",
       "      <td>0</td>\n",
       "      <td>0</td>\n",
       "      <td>1</td>\n",
       "      <td>0</td>\n",
       "      <td>0</td>\n",
       "      <td>0</td>\n",
       "      <td>0</td>\n",
       "      <td>0</td>\n",
       "      <td>1</td>\n",
       "      <td>0</td>\n",
       "    </tr>\n",
       "    <tr>\n",
       "      <th>2</th>\n",
       "      <td>32990</td>\n",
       "      <td>0</td>\n",
       "      <td>0</td>\n",
       "      <td>1</td>\n",
       "      <td>0</td>\n",
       "      <td>0</td>\n",
       "      <td>0</td>\n",
       "      <td>0</td>\n",
       "      <td>0</td>\n",
       "      <td>0</td>\n",
       "      <td>0</td>\n",
       "      <td>0</td>\n",
       "      <td>0</td>\n",
       "      <td>0</td>\n",
       "      <td>0</td>\n",
       "      <td>0</td>\n",
       "      <td>0</td>\n",
       "      <td>0</td>\n",
       "      <td>0</td>\n",
       "      <td>1</td>\n",
       "      <td>0</td>\n",
       "      <td>0</td>\n",
       "      <td>0</td>\n",
       "      <td>0</td>\n",
       "      <td>0</td>\n",
       "      <td>1</td>\n",
       "      <td>1</td>\n",
       "      <td>0</td>\n",
       "      <td>0</td>\n",
       "      <td>0</td>\n",
       "      <td>0</td>\n",
       "      <td>0</td>\n",
       "      <td>0</td>\n",
       "      <td>0</td>\n",
       "      <td>0</td>\n",
       "      <td>0</td>\n",
       "      <td>1</td>\n",
       "      <td>0</td>\n",
       "      <td>0</td>\n",
       "      <td>1</td>\n",
       "      <td>0</td>\n",
       "      <td>0</td>\n",
       "      <td>0</td>\n",
       "      <td>0</td>\n",
       "      <td>0</td>\n",
       "      <td>1</td>\n",
       "      <td>0</td>\n",
       "    </tr>\n",
       "    <tr>\n",
       "      <th>3</th>\n",
       "      <td>49990</td>\n",
       "      <td>0</td>\n",
       "      <td>0</td>\n",
       "      <td>0</td>\n",
       "      <td>0</td>\n",
       "      <td>0</td>\n",
       "      <td>1</td>\n",
       "      <td>0</td>\n",
       "      <td>0</td>\n",
       "      <td>0</td>\n",
       "      <td>0</td>\n",
       "      <td>0</td>\n",
       "      <td>0</td>\n",
       "      <td>0</td>\n",
       "      <td>0</td>\n",
       "      <td>0</td>\n",
       "      <td>0</td>\n",
       "      <td>1</td>\n",
       "      <td>0</td>\n",
       "      <td>0</td>\n",
       "      <td>0</td>\n",
       "      <td>0</td>\n",
       "      <td>0</td>\n",
       "      <td>0</td>\n",
       "      <td>1</td>\n",
       "      <td>0</td>\n",
       "      <td>1</td>\n",
       "      <td>0</td>\n",
       "      <td>0</td>\n",
       "      <td>0</td>\n",
       "      <td>0</td>\n",
       "      <td>0</td>\n",
       "      <td>0</td>\n",
       "      <td>0</td>\n",
       "      <td>0</td>\n",
       "      <td>0</td>\n",
       "      <td>1</td>\n",
       "      <td>0</td>\n",
       "      <td>0</td>\n",
       "      <td>1</td>\n",
       "      <td>0</td>\n",
       "      <td>0</td>\n",
       "      <td>0</td>\n",
       "      <td>0</td>\n",
       "      <td>0</td>\n",
       "      <td>1</td>\n",
       "      <td>0</td>\n",
       "    </tr>\n",
       "    <tr>\n",
       "      <th>4</th>\n",
       "      <td>49990</td>\n",
       "      <td>0</td>\n",
       "      <td>0</td>\n",
       "      <td>1</td>\n",
       "      <td>0</td>\n",
       "      <td>0</td>\n",
       "      <td>0</td>\n",
       "      <td>0</td>\n",
       "      <td>0</td>\n",
       "      <td>0</td>\n",
       "      <td>0</td>\n",
       "      <td>0</td>\n",
       "      <td>0</td>\n",
       "      <td>0</td>\n",
       "      <td>0</td>\n",
       "      <td>0</td>\n",
       "      <td>0</td>\n",
       "      <td>0</td>\n",
       "      <td>0</td>\n",
       "      <td>1</td>\n",
       "      <td>0</td>\n",
       "      <td>0</td>\n",
       "      <td>0</td>\n",
       "      <td>0</td>\n",
       "      <td>0</td>\n",
       "      <td>1</td>\n",
       "      <td>1</td>\n",
       "      <td>0</td>\n",
       "      <td>0</td>\n",
       "      <td>0</td>\n",
       "      <td>0</td>\n",
       "      <td>0</td>\n",
       "      <td>0</td>\n",
       "      <td>0</td>\n",
       "      <td>0</td>\n",
       "      <td>0</td>\n",
       "      <td>1</td>\n",
       "      <td>0</td>\n",
       "      <td>0</td>\n",
       "      <td>1</td>\n",
       "      <td>0</td>\n",
       "      <td>0</td>\n",
       "      <td>0</td>\n",
       "      <td>0</td>\n",
       "      <td>0</td>\n",
       "      <td>1</td>\n",
       "      <td>0</td>\n",
       "    </tr>\n",
       "  </tbody>\n",
       "</table>\n",
       "</div>"
      ],
      "text/plain": [
       "     MRP  Brand_ALIENWARE  Brand_APPLE  Brand_ASUS  Brand_DELL  \\\n",
       "0  36990                0            0           0           0   \n",
       "1  39990                0            0           0           0   \n",
       "2  32990                0            0           1           0   \n",
       "3  49990                0            0           0           0   \n",
       "4  49990                0            0           1           0   \n",
       "\n",
       "   Brand_GIGABYTE  Brand_HP  Brand_Infinix  Brand_Lenovo  Brand_MSI  \\\n",
       "0               0         0              0             1          0   \n",
       "1               0         0              0             1          0   \n",
       "2               0         0              0             0          0   \n",
       "3               0         1              0             0          0   \n",
       "4               0         0              0             0          0   \n",
       "\n",
       "   Brand_Nokia  Brand_RedmiBook  Brand_SAMSUNG  Brand_Ultimus  Brand_Vaio  \\\n",
       "0            0                0              0              0           0   \n",
       "1            0                0              0              0           0   \n",
       "2            0                0              0              0           0   \n",
       "3            0                0              0              0           0   \n",
       "4            0                0              0              0           0   \n",
       "\n",
       "   Brand_acer  Brand_realme  Processor_AMD  Processor_Apple  Processor_Intel  \\\n",
       "0           0             0              0                0                1   \n",
       "1           0             0              0                0                1   \n",
       "2           0             0              0                0                1   \n",
       "3           0             0              1                0                0   \n",
       "4           0             0              0                0                1   \n",
       "\n",
       "   Processor_Qualcomm  Operating System_Chrome  Operating System_DOS  \\\n",
       "0                   0                        0                     0   \n",
       "1                   0                        0                     0   \n",
       "2                   0                        0                     0   \n",
       "3                   0                        0                     0   \n",
       "4                   0                        0                     0   \n",
       "\n",
       "   Operating System_Mac  Operating System_Windows 10  \\\n",
       "0                     0                            0   \n",
       "1                     0                            0   \n",
       "2                     0                            0   \n",
       "3                     0                            1   \n",
       "4                     0                            0   \n",
       "\n",
       "   Operating System_Windows 11  RAM Type_DDR4  RAM Type_DDR5  RAM Type_LPDDR3  \\\n",
       "0                            1              1              0                0   \n",
       "1                            1              1              0                0   \n",
       "2                            1              1              0                0   \n",
       "3                            0              1              0                0   \n",
       "4                            1              1              0                0   \n",
       "\n",
       "   RAM Type_LPDDR4  RAM Type_LPDDR4X  RAM Type_LPDDR5  RAM Type_Unified  \\\n",
       "0                0                 0                0                 0   \n",
       "1                0                 0                0                 0   \n",
       "2                0                 0                0                 0   \n",
       "3                0                 0                0                 0   \n",
       "4                0                 0                0                 0   \n",
       "\n",
       "   RAM Size_16GB  RAM Size_32GB  RAM Size_4GB  RAM Size_8GB  Disc Type_EMMC  \\\n",
       "0              0              0             0             1               0   \n",
       "1              0              0             0             1               0   \n",
       "2              0              0             0             1               0   \n",
       "3              0              0             0             1               0   \n",
       "4              0              0             0             1               0   \n",
       "\n",
       "   Disc Type_HDD  Disc Type_SSD  Disc Size_128GB  Disc Size_1TB  \\\n",
       "0              0              1                0              0   \n",
       "1              0              1                0              0   \n",
       "2              0              1                0              0   \n",
       "3              0              1                0              0   \n",
       "4              0              1                0              0   \n",
       "\n",
       "   Disc Size_256GB  Disc Size_2TB  Disc Size_32GB  Disc Size_512GB  \\\n",
       "0                1              0               0                0   \n",
       "1                0              0               0                1   \n",
       "2                0              0               0                1   \n",
       "3                0              0               0                1   \n",
       "4                0              0               0                1   \n",
       "\n",
       "   Disc Size_64GB  \n",
       "0               0  \n",
       "1               0  \n",
       "2               0  \n",
       "3               0  \n",
       "4               0  "
      ]
     },
     "execution_count": 59,
     "metadata": {},
     "output_type": "execute_result"
    }
   ],
   "source": [
    "data1=pd.get_dummies(data)\n",
    "data1.head()"
   ]
  },
  {
   "cell_type": "code",
   "execution_count": 60,
   "id": "f92d6070",
   "metadata": {},
   "outputs": [],
   "source": [
    "X=data1.drop(\"MRP\", axis=1).values\n",
    "y=data1[\"MRP\"].values"
   ]
  },
  {
   "cell_type": "code",
   "execution_count": 61,
   "id": "af753a23",
   "metadata": {},
   "outputs": [],
   "source": [
    "from sklearn.model_selection import train_test_split\n",
    "\n",
    "x_train,x_test,y_train,y_test=train_test_split(X,y,test_size=0.2, random_state=0)"
   ]
  },
  {
   "cell_type": "code",
   "execution_count": 62,
   "id": "becdbaad",
   "metadata": {},
   "outputs": [],
   "source": [
    "from sklearn.ensemble import RandomForestRegressor\n",
    "\n",
    "rf=RandomForestRegressor()\n",
    "rf=rf.fit(x_train,y_train)\n",
    "y_pred=rf.predict(x_test)"
   ]
  },
  {
   "cell_type": "code",
   "execution_count": 63,
   "id": "61dd583e",
   "metadata": {},
   "outputs": [
    {
     "name": "stdout",
     "output_type": "stream",
     "text": [
      "0.8822292794900468\n"
     ]
    }
   ],
   "source": [
    "from sklearn.metrics import r2_score, mean_squared_error\n",
    "\n",
    "print(r2_score(y_pred,y_test))"
   ]
  },
  {
   "cell_type": "code",
   "execution_count": 64,
   "id": "0281b983",
   "metadata": {},
   "outputs": [],
   "source": [
    "from xgboost import XGBRegressor\n",
    "\n",
    "xgb=XGBRegressor(max_depth=2, max_leaves=2, booster='gbtree', learning_rate=0.19)\n",
    "xgb=xgb.fit(x_train,y_train)\n",
    "y_pred=xgb.predict(x_test)"
   ]
  },
  {
   "cell_type": "code",
   "execution_count": 65,
   "id": "42a7d1dc",
   "metadata": {},
   "outputs": [
    {
     "name": "stdout",
     "output_type": "stream",
     "text": [
      "0.9194503254451336\n"
     ]
    }
   ],
   "source": [
    "print(r2_score(y_pred,y_test))"
   ]
  },
  {
   "cell_type": "code",
   "execution_count": 66,
   "id": "fa9423dd",
   "metadata": {},
   "outputs": [],
   "source": [
    "from sklearn.model_selection import cross_val_score, KFold, ShuffleSplit"
   ]
  },
  {
   "cell_type": "code",
   "execution_count": 67,
   "id": "7168c471",
   "metadata": {},
   "outputs": [
    {
     "name": "stdout",
     "output_type": "stream",
     "text": [
      "Cross validations Score:\n",
      " [0.91495966 0.86168018 0.87582945 0.87495164 0.75954796 0.8584843\n",
      " 0.85802864 0.861162   0.89802215 0.89467985 0.90591489 0.9027385\n",
      " 0.80068514 0.87119416 0.84570491 0.90027658 0.91734123 0.89167961\n",
      " 0.8737434  0.86210028 0.81779995 0.77564639 0.87008686 0.85636394\n",
      " 0.86456345 0.79513169 0.86457515 0.91414549 0.84615609 0.91845645\n",
      " 0.86076979 0.82577774 0.86356383 0.75768202 0.89336363 0.8824216\n",
      " 0.77474707 0.86287407 0.74270906 0.821472   0.90838447 0.73386763\n",
      " 0.88383526 0.86878077 0.84570138 0.90018183 0.83044239 0.75801717\n",
      " 0.888287   0.74862135 0.78805095 0.90638862 0.83821118 0.88128637\n",
      " 0.74308117 0.90848259 0.84828986 0.80767976 0.91570959 0.85648085\n",
      " 0.85429738 0.89273711 0.91752643 0.84750399 0.83238282 0.89484455\n",
      " 0.75613081 0.92308529 0.88530085 0.80523874 0.89942804 0.8403766\n",
      " 0.88406558 0.81704577 0.85611929 0.92021717 0.8583537  0.8589777\n",
      " 0.83303107 0.79486626 0.76482706 0.89590943 0.73198221 0.932207\n",
      " 0.91704336 0.83780941 0.7816254  0.87294641 0.88250465 0.90700427\n",
      " 0.91271285 0.78101937 0.78463749 0.94130416 0.87746148 0.80910564\n",
      " 0.81013198 0.9046482  0.76999185 0.91697436]\n",
      "Average Cross validations Score: 0.8530018672479985\n",
      "Maximum Cross validations Score: 0.9413041611842587\n",
      "Minimum Cross validations Score: 0.7319822095523782\n"
     ]
    }
   ],
   "source": [
    "xgb=XGBRegressor(n_estimators=100,max_depth=2, max_leaves=2, booster='gbtree', learning_rate=0.19)\n",
    "\n",
    "k=ShuffleSplit(n_splits=100, test_size=0.2, random_state=0)\n",
    "score=cross_val_score(xgb, X,y, cv=k)\n",
    "print(\"Cross validations Score:\\n\", score)\n",
    "print(\"Average Cross validations Score:\", score.mean())\n",
    "print(\"Maximum Cross validations Score:\", score.max())\n",
    "print(\"Minimum Cross validations Score:\", score.min())"
   ]
  },
  {
   "cell_type": "markdown",
   "id": "f449c240",
   "metadata": {},
   "source": [
    "# performance of the model is increased"
   ]
  },
  {
   "cell_type": "markdown",
   "id": "16c6c373",
   "metadata": {},
   "source": [
    "### GridsearchCV"
   ]
  },
  {
   "cell_type": "code",
   "execution_count": 70,
   "id": "7b64259b",
   "metadata": {},
   "outputs": [],
   "source": [
    "from sklearn.model_selection import GridSearchCV"
   ]
  },
  {
   "cell_type": "code",
   "execution_count": 71,
   "id": "d6f1fd84",
   "metadata": {},
   "outputs": [
    {
     "data": {
      "text/plain": [
       "{'learning_rate': 0.2, 'max_depth': 1, 'n_estimators': 100}"
      ]
     },
     "execution_count": 71,
     "metadata": {},
     "output_type": "execute_result"
    }
   ],
   "source": [
    "xgb=XGBRegressor(max_leaves=0)\n",
    "parameters=dict(n_estimators=[50,60,70,80,90,100], max_depth=[1,2,3,4,5],\n",
    "                learning_rate=[0.1,0.11,0.12,0.13,0.14,0.15,0.16,0.18,0.19,0.2])\n",
    "grid_search_cv=GridSearchCV(xgb,param_grid=parameters)\n",
    "search = grid_search_cv.fit(x_train,y_train)\n",
    "search.best_params_"
   ]
  },
  {
   "cell_type": "code",
   "execution_count": 72,
   "id": "5457062e",
   "metadata": {},
   "outputs": [
    {
     "data": {
      "text/plain": [
       "0.9058283609449451"
      ]
     },
     "execution_count": 72,
     "metadata": {},
     "output_type": "execute_result"
    }
   ],
   "source": [
    "xgb=XGBRegressor(max_leaves=0, n_estimators=100, max_depth=1, learning_rate=0.2)\n",
    "xgb=xgb.fit(x_train,y_train)\n",
    "r2_score(xgb.predict(x_test), y_test)"
   ]
  },
  {
   "cell_type": "markdown",
   "id": "d9d7d2df",
   "metadata": {},
   "source": [
    "# Model performance is increased"
   ]
  },
  {
   "cell_type": "code",
   "execution_count": null,
   "id": "a9dff939",
   "metadata": {},
   "outputs": [],
   "source": []
  }
 ],
 "metadata": {
  "kernelspec": {
   "display_name": "Python 3 (ipykernel)",
   "language": "python",
   "name": "python3"
  },
  "language_info": {
   "codemirror_mode": {
    "name": "ipython",
    "version": 3
   },
   "file_extension": ".py",
   "mimetype": "text/x-python",
   "name": "python",
   "nbconvert_exporter": "python",
   "pygments_lexer": "ipython3",
   "version": "3.9.12"
  }
 },
 "nbformat": 4,
 "nbformat_minor": 5
}
